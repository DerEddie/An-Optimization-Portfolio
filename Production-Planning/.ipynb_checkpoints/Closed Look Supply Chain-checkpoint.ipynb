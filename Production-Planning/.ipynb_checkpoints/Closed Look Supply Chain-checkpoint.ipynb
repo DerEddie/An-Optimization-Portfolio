{
 "cells": [
  {
   "cell_type": "code",
   "execution_count": 30,
   "id": "14effd88",
   "metadata": {},
   "outputs": [],
   "source": [
    "import gurobipy\n",
    "import numpy as np\n",
    "import matplotlib.pyplot as plt\n",
    "import numpy as np \n",
    "import random\n",
    "import pandas as pd"
   ]
  },
  {
   "cell_type": "code",
   "execution_count": 31,
   "id": "6dad84ca",
   "metadata": {
    "scrolled": false
   },
   "outputs": [],
   "source": [
    "#Set random seed\n",
    "rnd = np.random\n",
    "rnd.seed(0)"
   ]
  },
  {
   "cell_type": "code",
   "execution_count": 32,
   "id": "9932ee2e",
   "metadata": {},
   "outputs": [],
   "source": [
    "from gurobipy import Model, GRB, quicksum\n",
    "mdl = Model(\"CVRP\")\n",
    "#sets\n",
    "K = [i for i in range(1,3+1)] #Products\n",
    "T = [i for i in range(1,10+1)] #Periods\n",
    "L = [i for i in range(1,3+1)] #Vendor\n",
    "R = [i for i in range(1,3+1)] # Menge der Rabattstufen\n",
    "\n",
    "\n",
    "#Parameter\n",
    "bigM_N = 100000\n",
    "bigM_RF = 1000000\n",
    "\n",
    "c_N = round(random.random()*100,2)\n",
    "c_RF = round(random.random()*100,2)\n",
    "\n",
    "d_N = oc_fix_lr = [[round(random.randint(2,10),2) \\\n",
    "                       for i in range(len(T))] for j in range(len(K))]\n",
    "\n",
    "d_RF = oc_fix_lr = [[round(random.randint(2,10),2) \\\n",
    "                       for i in range(len(T))] for j in range(len(K))]\n",
    "\n",
    "#Emission\n",
    "e_N = round(random.random()*10,2)\n",
    "e_RF = round(random.random()*10,2)\n",
    "e__max = round(random.random()*10,2)\n",
    "\n",
    "#storage cost\n",
    "l_N = np.round(rnd.rand(len(K)), 2) \n",
    "l_R = np.round(rnd.rand(len(K)), 2) \n",
    "l_RF = np.round(rnd.rand(len(K)), 2) \n",
    "l_M = np.round(rnd.rand(len(K)), 2) \n",
    "\n",
    "\n",
    "p = np.round(rnd.rand(len(K)), 2) \n",
    "pt_N = np.round(rnd.rand(len(K)), 2) \n",
    "pt_RF = np.round(rnd.rand(len(K)), 2) \n",
    "\n",
    "#returned goods amount\n",
    "re = [[round(random.randint(2,10),2) \\\n",
    "                       for i in range(len(T))] for j in range(len(K))]\n",
    "#setup cost\n",
    "sc_N = pt_RF_k = np.round(rnd.rand(len(K)), 2) \n",
    "sc_RF = pt_RF_k = np.round(rnd.rand(len(K)), 2) \n",
    "\n",
    "#setupcost\n",
    "st_N = np.round(rnd.rand(len(K)), 2) \n",
    "st_RF = np.round(rnd.rand(len(K)), 2) \n",
    "\n",
    "#setuptime\n",
    "sc_N = np.round(rnd.rand(len(K)), 2) \n",
    "sc_RF = np.round(rnd.rand(len(K)), 2) \n",
    "\n",
    "#material demand\n",
    "mb_N = np.round(rnd.rand(len(K)), 2) \n",
    "mb_RF = np.round(rnd.rand(len(K)), 2) \n",
    "\n",
    "#ordering cost\n",
    "oc_fix = [[round(random.random()*10,2) for i in range(len(L))] for j in range(len(R))]\n",
    "oc_var = [[round(random.random(),2) for i in range(len(L))] for j in range(len(R))]\n",
    "\n",
    "#trash/disposal cost\n",
    "tc = round(random.random()*10,2)\n",
    "\n",
    "#substitution cost\n",
    "c_sub = round(random.random()*10,2)\n",
    "\n",
    "\n",
    "\n"
   ]
  },
  {
   "cell_type": "code",
   "execution_count": 33,
   "id": "95097b7d",
   "metadata": {},
   "outputs": [
    {
     "data": {
      "text/plain": [
       "[[6, 2, 7, 7, 5, 5, 10, 10, 2, 2],\n",
       " [10, 2, 10, 9, 9, 3, 6, 5, 4, 2],\n",
       " [6, 6, 6, 3, 10, 5, 3, 10, 10, 6]]"
      ]
     },
     "execution_count": 33,
     "metadata": {},
     "output_type": "execute_result"
    }
   ],
   "source": [
    "re_kt"
   ]
  },
  {
   "cell_type": "code",
   "execution_count": 34,
   "id": "339f7a0f",
   "metadata": {},
   "outputs": [
    {
     "data": {
      "text/html": [
       "<div>\n",
       "<style scoped>\n",
       "    .dataframe tbody tr th:only-of-type {\n",
       "        vertical-align: middle;\n",
       "    }\n",
       "\n",
       "    .dataframe tbody tr th {\n",
       "        vertical-align: top;\n",
       "    }\n",
       "\n",
       "    .dataframe thead th {\n",
       "        text-align: right;\n",
       "    }\n",
       "</style>\n",
       "<table border=\"1\" class=\"dataframe\">\n",
       "  <thead>\n",
       "    <tr style=\"text-align: right;\">\n",
       "      <th></th>\n",
       "      <th>0</th>\n",
       "      <th>1</th>\n",
       "      <th>2</th>\n",
       "    </tr>\n",
       "  </thead>\n",
       "  <tbody>\n",
       "    <tr>\n",
       "      <th>0</th>\n",
       "      <td>6.94</td>\n",
       "      <td>1.37</td>\n",
       "      <td>5.45</td>\n",
       "    </tr>\n",
       "    <tr>\n",
       "      <th>1</th>\n",
       "      <td>0.57</td>\n",
       "      <td>3.93</td>\n",
       "      <td>3.34</td>\n",
       "    </tr>\n",
       "    <tr>\n",
       "      <th>2</th>\n",
       "      <td>3.00</td>\n",
       "      <td>1.10</td>\n",
       "      <td>7.13</td>\n",
       "    </tr>\n",
       "  </tbody>\n",
       "</table>\n",
       "</div>"
      ],
      "text/plain": [
       "      0     1     2\n",
       "0  6.94  1.37  5.45\n",
       "1  0.57  3.93  3.34\n",
       "2  3.00  1.10  7.13"
      ]
     },
     "execution_count": 34,
     "metadata": {},
     "output_type": "execute_result"
    }
   ],
   "source": [
    "pd.DataFrame(oc_fix_lr)"
   ]
  },
  {
   "cell_type": "code",
   "execution_count": 35,
   "id": "0f7cb7f9",
   "metadata": {},
   "outputs": [
    {
     "data": {
      "text/html": [
       "<div>\n",
       "<style scoped>\n",
       "    .dataframe tbody tr th:only-of-type {\n",
       "        vertical-align: middle;\n",
       "    }\n",
       "\n",
       "    .dataframe tbody tr th {\n",
       "        vertical-align: top;\n",
       "    }\n",
       "\n",
       "    .dataframe thead th {\n",
       "        text-align: right;\n",
       "    }\n",
       "</style>\n",
       "<table border=\"1\" class=\"dataframe\">\n",
       "  <thead>\n",
       "    <tr style=\"text-align: right;\">\n",
       "      <th></th>\n",
       "      <th>0</th>\n",
       "      <th>1</th>\n",
       "      <th>2</th>\n",
       "      <th>3</th>\n",
       "      <th>4</th>\n",
       "      <th>5</th>\n",
       "      <th>6</th>\n",
       "      <th>7</th>\n",
       "      <th>8</th>\n",
       "      <th>9</th>\n",
       "    </tr>\n",
       "  </thead>\n",
       "  <tbody>\n",
       "    <tr>\n",
       "      <th>0</th>\n",
       "      <td>4</td>\n",
       "      <td>8</td>\n",
       "      <td>7</td>\n",
       "      <td>7</td>\n",
       "      <td>5</td>\n",
       "      <td>9</td>\n",
       "      <td>9</td>\n",
       "      <td>5</td>\n",
       "      <td>6</td>\n",
       "      <td>9</td>\n",
       "    </tr>\n",
       "    <tr>\n",
       "      <th>1</th>\n",
       "      <td>3</td>\n",
       "      <td>3</td>\n",
       "      <td>4</td>\n",
       "      <td>9</td>\n",
       "      <td>10</td>\n",
       "      <td>4</td>\n",
       "      <td>3</td>\n",
       "      <td>4</td>\n",
       "      <td>4</td>\n",
       "      <td>5</td>\n",
       "    </tr>\n",
       "    <tr>\n",
       "      <th>2</th>\n",
       "      <td>7</td>\n",
       "      <td>3</td>\n",
       "      <td>5</td>\n",
       "      <td>8</td>\n",
       "      <td>4</td>\n",
       "      <td>9</td>\n",
       "      <td>8</td>\n",
       "      <td>2</td>\n",
       "      <td>10</td>\n",
       "      <td>4</td>\n",
       "    </tr>\n",
       "  </tbody>\n",
       "</table>\n",
       "</div>"
      ],
      "text/plain": [
       "   0  1  2  3   4  5  6  7   8  9\n",
       "0  4  8  7  7   5  9  9  5   6  9\n",
       "1  3  3  4  9  10  4  3  4   4  5\n",
       "2  7  3  5  8   4  9  8  2  10  4"
      ]
     },
     "execution_count": 35,
     "metadata": {},
     "output_type": "execute_result"
    }
   ],
   "source": [
    "pd.DataFrame(d_N_kt)"
   ]
  },
  {
   "cell_type": "code",
   "execution_count": 28,
   "id": "1d2a066d",
   "metadata": {},
   "outputs": [
    {
     "data": {
      "text/plain": [
       "([<matplotlib.axis.XTick at 0x1e9618e1b80>,\n",
       "  <matplotlib.axis.XTick at 0x1e9618e1b50>,\n",
       "  <matplotlib.axis.XTick at 0x1e9618f04f0>,\n",
       "  <matplotlib.axis.XTick at 0x1e961910dc0>,\n",
       "  <matplotlib.axis.XTick at 0x1e96191a310>,\n",
       "  <matplotlib.axis.XTick at 0x1e96191a820>,\n",
       "  <matplotlib.axis.XTick at 0x1e96191ad30>,\n",
       "  <matplotlib.axis.XTick at 0x1e96191f280>,\n",
       "  <matplotlib.axis.XTick at 0x1e96191f790>,\n",
       "  <matplotlib.axis.XTick at 0x1e96191fca0>],\n",
       " [Text(0, 0, 'Period 0'),\n",
       "  Text(1, 0, 'Period 1'),\n",
       "  Text(2, 0, 'Period 2'),\n",
       "  Text(3, 0, 'Period 3'),\n",
       "  Text(4, 0, 'Period 4'),\n",
       "  Text(5, 0, 'Period 5'),\n",
       "  Text(6, 0, 'Period 6'),\n",
       "  Text(7, 0, 'Period 7'),\n",
       "  Text(8, 0, 'Period 8'),\n",
       "  Text(9, 0, 'Period 9')])"
      ]
     },
     "execution_count": 28,
     "metadata": {},
     "output_type": "execute_result"
    },
    {
     "data": {
      "image/png": "[encoded data removed]",
      "text/plain": [
       "<Figure size 432x288 with 1 Axes>"
      ]
     },
     "metadata": {
      "needs_background": "light"
     },
     "output_type": "display_data"
    }
   ],
   "source": [
    "for counter, r in enumerate(d_N_kt):\n",
    "    plt.plot(range(0,len(r)), r, label = f\"line {counter}\")  \n",
    "\n",
    "plt.xticks(range(0,len(r)), [f\"Period {i}\" for i in  range(0,len(r))] , rotation = 'vertical')"
   ]
  },
  {
   "cell_type": "code",
   "execution_count": 29,
   "id": "f99dd8c6",
   "metadata": {},
   "outputs": [
    {
     "data": {
      "text/plain": [
       "[[0.7, 0.32, 0.76], [0.72, 0.64, 0.96], [0.2, 0.44, 0.36]]"
      ]
     },
     "execution_count": 29,
     "metadata": {},
     "output_type": "execute_result"
    }
   ],
   "source": [
    "oc_var_lr"
   ]
  },
  {
   "cell_type": "code",
   "execution_count": 21,
   "id": "62316246",
   "metadata": {},
   "outputs": [],
   "source": [
    "#Variablen\n",
    "X_N_kt = 0\n",
    "X_RF_kt = 0\n",
    "\n",
    "#setup-variables\n",
    "gamma_N_kt = mdl.addVars(K, T, vtype=GRB.BINARY)\n",
    "gamme_RF_kt = mdl.addVars(K, T, vtype=GRB.BINARY)\n",
    "\n",
    "#Storage-quantity\n",
    "Y_N_kt = mdl.addVars(K,T, vtype=GRB.CONTINUOUS) # new goods\n",
    "Y_RF_kt = mdl.addVars(K,T, vtype=GRB.CONTINUOUS) #remanufactured goods\n",
    "Y_M_t = mdl.addVars(T, vtype=GRB.CONTINUOUS) #raw material\n",
    "\n",
    "#Substitution quantity\n",
    "S_kt = mdl.addVars(K,T, vtype=GRB.CONTINUOUS)\n",
    "#disposal quantity\n",
    "A_t = mdl.addVars(T, vtype=GRB.CONTINUOUS)"
   ]
  },
  {
   "cell_type": "code",
   "execution_count": null,
   "id": "b4134c0e",
   "metadata": {},
   "outputs": [],
   "source": []
  },
  {
   "cell_type": "markdown",
   "id": "9f3c3d57",
   "metadata": {},
   "source": [
    "\\begin{align}\n",
    "\tMin. Z= \\sum_{k \\epsilon K} \\sum_{t \\epsilon T} ( p_{k} [\\, X_{kt}^N + X_{kt}^{RF}] \\,  +   sc_{k}^{N} \\, \\gamma_{kt}^{N} + sc_{k}^{RF} \\, \\gamma_{kt}^{RF} ) \\notag\\\\ + \\sum_{k \\epsilon K} \\sum_{t \\epsilon T} l^{N}_{k} \\, Y_{kt}^{N} +l^{RF}_{k} \\, Y_{kt}^{RF}  + l^{R}_{k}  \\, Y_{kt}^{R}  + c^{sub} S_{kt})  \n",
    "\t+ \\sum_{t \\epsilon T}( l^M \\, \n",
    "\tY_t^M + tc \\, A_t) \\notag\\\\ + \\sum_{l \\epsilon L} \\sum_{r \\epsilon R} \\sum_{t \\epsilon T}(  \\beta_{lrt} \\, oc_{lr}^{fix} +  B_{lrt} \\, oc_{lr}^{var}) \n",
    "\t\t\\label{Eq:ZFkt}\n",
    "\\end{align}"
   ]
  },
  {
   "cell_type": "code",
   "execution_count": null,
   "id": "a6309a04",
   "metadata": {},
   "outputs": [],
   "source": [
    "mdl.setObjective(quicksum(p_k[k]*c[a] for k in K for t in T))\n"
   ]
  },
  {
   "cell_type": "markdown",
   "id": "b11ce0f6",
   "metadata": {},
   "source": [
    "\\begin{align}\n",
    "\t& Y^{R}_{k,t-1} + re_{kt} - X^{RF}_{kt} - A_t = Y^{R}_{kt} \\, & & \\forall \\, k \\in \\mathcal{K},\\,t \\in \\mathcal{T} &\\hfill \\label{Lagerbilanz_Rücklauf}\\\\[2ex]\n",
    "\\end{align}"
   ]
  },
  {
   "cell_type": "code",
   "execution_count": null,
   "id": "0b44e5ea",
   "metadata": {},
   "outputs": [],
   "source": []
  },
  {
   "cell_type": "markdown",
   "id": "92dc1510",
   "metadata": {},
   "source": [
    "\\begin{align}\n",
    "\t\\hspace{12pt}&Y^{M}_{t-1} + \\sum_{l \\in \\mathcal{L}} \\sum_{r \\in \\mathcal{R}} B_{l,r,t} - \\sum_{k \\in \\mathcal{K}} (mb^{N}_{k} \\cdot X^{N}_{kt} + mb^{RF}_{k} \\cdot X^{RF}_{kt}) = Y^{M}_{t} \\,& &\\forall \\, t \\in \\mathcal{T} &\\hfill \\label{Eq:Lagerbilanz_Material}\\\\[2ex]\n",
    "\\end{align}"
   ]
  },
  {
   "cell_type": "code",
   "execution_count": null,
   "id": "8457a2c5",
   "metadata": {},
   "outputs": [],
   "source": []
  },
  {
   "cell_type": "markdown",
   "id": "8e88651f",
   "metadata": {},
   "source": [
    "\\begin{align}\n",
    "\tY^{R}_{k,t-1} + re_{kt} - X^{RF}_{kt} - A_t = Y^{R}_{kt} \\, & & \\forall \\, k \\in \\mathcal{K},\\,t \\in \\mathcal{T} &\\hfill \\label{Lagerbilanz_Rücklauf}\\\\[2ex]\n",
    "\\end{align}"
   ]
  },
  {
   "cell_type": "code",
   "execution_count": null,
   "id": "84a74b2f",
   "metadata": {},
   "outputs": [],
   "source": []
  },
  {
   "cell_type": "markdown",
   "id": "5ae34bed",
   "metadata": {},
   "source": [
    "\\begin{align}\n",
    "\tY^{N}_{k,t-1}  + X^{N}_{kt} - d_{kt}^N - S_{kt} = Y^{N}_{kt} \\, & & \\forall \\, k \\in \\mathcal{K} ,t \\in \\mathcal{T} &\\hfill \\label{Eq:Lagerbilanz_Neuproduktion}\\\\[2ex]\n",
    "\\end{align}"
   ]
  },
  {
   "cell_type": "code",
   "execution_count": null,
   "id": "b7c19a61",
   "metadata": {},
   "outputs": [],
   "source": []
  },
  {
   "cell_type": "markdown",
   "id": "4df2c2c6",
   "metadata": {},
   "source": [
    "\\begin{align}\n",
    "\t&Y^{RF}_{k,t-1}  + X^{RF}_{kt} - d_{kt}^{RF} + S_{kt} = Y^{RF}_{kt} \\, & & \\forall \\, k \\in \\mathcal{K} ,t \\in \\mathcal{T} &\\hfill \\label{Eq:Lagerbilanz_Refabrikate}\\\\[2ex]\n",
    "\\end{align}"
   ]
  },
  {
   "cell_type": "code",
   "execution_count": null,
   "id": "7850b049",
   "metadata": {},
   "outputs": [],
   "source": []
  },
  {
   "cell_type": "markdown",
   "id": "3be42f50",
   "metadata": {},
   "source": [
    "\\begin{align}\n",
    "\t\t\\sum_{k \\in \\mathcal{K}}( st^{N}_{k} \\cdot \\gamma^{N}_{kt}  + pt^N \\cdot X^N_{kt}) \\leq c^{N}  \\, & & \\forall \\, t \\in \\mathcal{T} &\\hfill \\label{Eq:Kapa_Neuproduktion}\\\\[2ex]\n",
    "\\end{align}"
   ]
  },
  {
   "cell_type": "code",
   "execution_count": null,
   "id": "c890abd6",
   "metadata": {},
   "outputs": [],
   "source": []
  },
  {
   "cell_type": "markdown",
   "id": "69c26f83",
   "metadata": {},
   "source": [
    "\\begin{align}\n",
    "\t\t\\sum_{k \\in \\mathcal{K}}( st^{RF}_{k} \\cdot \\gamma^{RF}_{kt}  + pt^{RF} \\cdot X^{RF}_{kt}) \\leq c^{RF}  \\, & & \\forall \\, t \\in \\mathcal{T} &\\hfill \\label{Eq:Kapa_Refabrikation}\\\\[2ex]\n",
    "\\end{align}"
   ]
  },
  {
   "cell_type": "code",
   "execution_count": null,
   "id": "49442f63",
   "metadata": {},
   "outputs": [],
   "source": []
  },
  {
   "cell_type": "markdown",
   "id": "a05e7541",
   "metadata": {},
   "source": [
    "\\begin{align}\n",
    "\t\tX^N_{kt} \\leq bigM_{kt}^{N} \\cdot \\gamma^{N}_{kt}  \\;\\;\\;( BigM^N_{kt} = \\sum_{t^{'}=t}^T d_{k,t^{'}}^N )\\, & & \\forall \\,k \\in \\mathcal{K}\\,, t \\in \\mathcal{T} &\\hfill \\label{Eq:bigM_Neuproduktion}\\\\[2ex]\n",
    "\\end{align}"
   ]
  },
  {
   "cell_type": "code",
   "execution_count": null,
   "id": "9ca2cd02",
   "metadata": {},
   "outputs": [],
   "source": []
  },
  {
   "cell_type": "markdown",
   "id": "b8acfd5d",
   "metadata": {},
   "source": [
    "\\begin{align}\n",
    "\t\tX^{RF}_{kt} \\leq bigM_{kt}^{RF}  \\cdot \\gamma^{RF}_{kt} \\;\\;\\; (BigM^{RF}_{kt} = \\sum_{t^{'}=t}^T d_{k,t^{'}}^{RF} )\\, & & \\forall \\, k \\in \\mathcal{K}\\,, t \\in \\mathcal{T} &\\hfill \\label{Eq:bigM_Refabrikation}\\\\[2ex]\n",
    "\\end{align}"
   ]
  },
  {
   "cell_type": "code",
   "execution_count": null,
   "id": "10bc8159",
   "metadata": {},
   "outputs": [],
   "source": []
  },
  {
   "cell_type": "markdown",
   "id": "afeaed89",
   "metadata": {},
   "source": [
    "\\begin{align}\n",
    "\t\t\\sum_{k \\in \\mathcal{K}}  (e^{N} \\cdot X^{N}_{kt}  + e^{RF} \\cdot X^{RF}_{kt}) \\leq e^{max} \\,\\,\\, \\forall \\, t \\in \\mathcal{T}  \\, & &  &\\hfill \\label{Eq:Emission}\\\\[2ex]\n",
    "\\end{align}"
   ]
  },
  {
   "cell_type": "code",
   "execution_count": null,
   "id": "c4167ef0",
   "metadata": {},
   "outputs": [],
   "source": []
  },
  {
   "cell_type": "markdown",
   "id": "8a9d48ae",
   "metadata": {},
   "source": [
    "\\begin{align}\n",
    "\t\t\\sum_{k \\in \\mathcal{K}} \\sum_{t \\in \\mathcal{T}} e^{N} \\cdot X^{N}_{kt}  + e^{RF} \\cdot X^{RF}_{kt} \\leq e^{max} \\cdot \\mathcal{T} \\, & &  &\\hfill \\label{Eq:Emission}\\\\[2ex]\n",
    "\\end{align}"
   ]
  },
  {
   "cell_type": "code",
   "execution_count": null,
   "id": "1ce10304",
   "metadata": {},
   "outputs": [],
   "source": []
  },
  {
   "cell_type": "markdown",
   "id": "07115c38",
   "metadata": {},
   "source": [
    "\\begin{align}\n",
    "    B_{lrt} \\leq \\beta_{lrt} \\cdot oq^{max}_{lr}    \\, & & \\forall \\, t,l,r \\in \\mathcal{T,L,R} &\\hfill \\label{Eq:Bestell-UB}\\\\[2ex]\n",
    "\\end{align}"
   ]
  },
  {
   "cell_type": "code",
   "execution_count": null,
   "id": "36c63244",
   "metadata": {},
   "outputs": [],
   "source": []
  },
  {
   "cell_type": "markdown",
   "id": "9dbf852b",
   "metadata": {},
   "source": [
    "\\begin{align}\n",
    "B_{lrt} \\geq \\beta_{lrt} \\cdot(1+ oq^{max}_{lr-1})    \\, & & \\forall \\,t,l,r \\in \\mathcal{T,L,R} &\\hfill \\label{Eq:Bestell-LB}\\\\[2ex]\n",
    "\\end{align}"
   ]
  },
  {
   "cell_type": "code",
   "execution_count": null,
   "id": "c01a3963",
   "metadata": {},
   "outputs": [],
   "source": []
  },
  {
   "cell_type": "markdown",
   "id": "3ae6d39a",
   "metadata": {},
   "source": [
    "\\begin{align}\n",
    "\\sum_{r \\in \\mathcal{R}} \\beta_{lrt}  \\leq 1   \\, & & \\forall \\, l \\in \\mathcal{L}\\,, t \\in \\mathcal{T}  &\\hfill \\label{Eq:Bestell-nur-über-eine-Rabattstufe}\\\\[2ex]\n",
    "\\end{align}"
   ]
  },
  {
   "cell_type": "code",
   "execution_count": null,
   "id": "c0035e04",
   "metadata": {},
   "outputs": [],
   "source": []
  },
  {
   "cell_type": "markdown",
   "id": "b2496d50",
   "metadata": {},
   "source": [
    "\\begin{align}\n",
    "    A_t, B_{lrt} , X^{N}_{kt} , X^{RF}_{kt} , Y^{M}_{t} ,  Y^{N}_{kt} , Y^{RF}_{kt} ,  Y^{R}_{kt} \\geq 0  \\, & & \\forall \\, t \\in \\mathcal{T} &\\hfill \\label{Eq:NNB}\\\\[2ex]\n",
    "\\end{align}"
   ]
  },
  {
   "cell_type": "markdown",
   "id": "864672c6",
   "metadata": {},
   "source": [
    "\\begin{align}\n",
    "    \\beta_{lrt} ,  \\gamma^{N}_{kt} , \t\\gamma^{RF}_{kt} \\in \\lbrace 0,1 \\rbrace\t  \\, & & \\forall \\, t \\in \\mathcal{T} &\\hfill \\label{Eq:Binär}\n",
    "\\end{align}"
   ]
  },
  {
   "cell_type": "markdown",
   "id": "149c8a80",
   "metadata": {},
   "source": []
  },
  {
   "cell_type": "code",
   "execution_count": null,
   "id": "be19c609",
   "metadata": {},
   "outputs": [],
   "source": []
  },
  {
   "cell_type": "code",
   "execution_count": null,
   "id": "4b536e55",
   "metadata": {},
   "outputs": [],
   "source": []
  }
 ],
 "metadata": {
  "kernelspec": {
   "display_name": "Python 3",
   "language": "python",
   "name": "python3"
  },
  "language_info": {
   "codemirror_mode": {
    "name": "ipython",
    "version": 3
   },
   "file_extension": ".py",
   "mimetype": "text/x-python",
   "name": "python",
   "nbconvert_exporter": "python",
   "pygments_lexer": "ipython3",
   "version": "3.8.8"
  }
 },
 "nbformat": 4,
 "nbformat_minor": 5
}
