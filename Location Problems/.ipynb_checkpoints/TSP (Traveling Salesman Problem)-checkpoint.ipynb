{
 "cells": [
  {
   "cell_type": "markdown",
   "metadata": {},
   "source": [
    "# Travelling Salesman Problem (some code is not mine, I extended it)"
   ]
  },
  {
   "cell_type": "code",
   "execution_count": 202,
   "metadata": {
    "scrolled": true
   },
   "outputs": [
    {
     "name": "stderr",
     "output_type": "stream",
     "text": [
      "C:\\Users\\ekrut\\anaconda3\\lib\\site-packages\\IPython\\core\\interactiveshell.py:3165: DtypeWarning: Columns (3) have mixed types.Specify dtype option on import or set low_memory=False.\n",
      "  has_raised = await self.run_ast_nodes(code_ast.body, cell_name,\n"
     ]
    }
   ],
   "source": [
    "import pandas as pd\n",
    "cities = pd.read_csv(\"worldcities.csv\")"
   ]
  },
  {
   "cell_type": "markdown",
   "metadata": {},
   "source": [
    "# Using some data from Kaggle"
   ]
  },
  {
   "cell_type": "code",
   "execution_count": 203,
   "metadata": {},
   "outputs": [
    {
     "data": {
      "text/html": [
       "<div>\n",
       "<style scoped>\n",
       "    .dataframe tbody tr th:only-of-type {\n",
       "        vertical-align: middle;\n",
       "    }\n",
       "\n",
       "    .dataframe tbody tr th {\n",
       "        vertical-align: top;\n",
       "    }\n",
       "\n",
       "    .dataframe thead th {\n",
       "        text-align: right;\n",
       "    }\n",
       "</style>\n",
       "<table border=\"1\" class=\"dataframe\">\n",
       "  <thead>\n",
       "    <tr style=\"text-align: right;\">\n",
       "      <th></th>\n",
       "      <th>Country</th>\n",
       "      <th>City</th>\n",
       "      <th>AccentCity</th>\n",
       "      <th>Region</th>\n",
       "      <th>Population</th>\n",
       "      <th>Latitude</th>\n",
       "      <th>Longitude</th>\n",
       "    </tr>\n",
       "  </thead>\n",
       "  <tbody>\n",
       "    <tr>\n",
       "      <th>0</th>\n",
       "      <td>ad</td>\n",
       "      <td>aixas</td>\n",
       "      <td>Aixàs</td>\n",
       "      <td>6.0</td>\n",
       "      <td>NaN</td>\n",
       "      <td>42.483333</td>\n",
       "      <td>1.466667</td>\n",
       "    </tr>\n",
       "    <tr>\n",
       "      <th>1</th>\n",
       "      <td>ad</td>\n",
       "      <td>aixirivali</td>\n",
       "      <td>Aixirivali</td>\n",
       "      <td>6.0</td>\n",
       "      <td>NaN</td>\n",
       "      <td>42.466667</td>\n",
       "      <td>1.500000</td>\n",
       "    </tr>\n",
       "    <tr>\n",
       "      <th>2</th>\n",
       "      <td>ad</td>\n",
       "      <td>aixirivall</td>\n",
       "      <td>Aixirivall</td>\n",
       "      <td>6.0</td>\n",
       "      <td>NaN</td>\n",
       "      <td>42.466667</td>\n",
       "      <td>1.500000</td>\n",
       "    </tr>\n",
       "    <tr>\n",
       "      <th>3</th>\n",
       "      <td>ad</td>\n",
       "      <td>aixirvall</td>\n",
       "      <td>Aixirvall</td>\n",
       "      <td>6.0</td>\n",
       "      <td>NaN</td>\n",
       "      <td>42.466667</td>\n",
       "      <td>1.500000</td>\n",
       "    </tr>\n",
       "    <tr>\n",
       "      <th>4</th>\n",
       "      <td>ad</td>\n",
       "      <td>aixovall</td>\n",
       "      <td>Aixovall</td>\n",
       "      <td>6.0</td>\n",
       "      <td>NaN</td>\n",
       "      <td>42.466667</td>\n",
       "      <td>1.483333</td>\n",
       "    </tr>\n",
       "  </tbody>\n",
       "</table>\n",
       "</div>"
      ],
      "text/plain": [
       "  Country        City  AccentCity Region  Population   Latitude  Longitude\n",
       "0      ad       aixas       Aixàs    6.0         NaN  42.483333   1.466667\n",
       "1      ad  aixirivali  Aixirivali    6.0         NaN  42.466667   1.500000\n",
       "2      ad  aixirivall  Aixirivall    6.0         NaN  42.466667   1.500000\n",
       "3      ad   aixirvall   Aixirvall    6.0         NaN  42.466667   1.500000\n",
       "4      ad    aixovall    Aixovall    6.0         NaN  42.466667   1.483333"
      ]
     },
     "execution_count": 203,
     "metadata": {},
     "output_type": "execute_result"
    }
   ],
   "source": [
    "cities.head(5)"
   ]
  },
  {
   "cell_type": "code",
   "execution_count": 204,
   "metadata": {
    "scrolled": false
   },
   "outputs": [
    {
     "data": {
      "text/plain": [
       "array(['ad', 'ae', 'af', 'ag', 'ai', 'al', 'am', 'an', 'ao', 'ar', 'at',\n",
       "       'au', 'aw', 'az', 'ba', 'bb', 'bd', 'be', 'bf', 'bg', 'bh', 'bi',\n",
       "       'bj', 'bm', 'bn', 'bo', 'br', 'bs', 'bt', 'bw', 'by', 'bz', 'ca',\n",
       "       'cc', 'cd', 'cf', 'cg', 'ch', 'ci', 'ck', 'cl', 'cm', 'cn', 'co',\n",
       "       'cr', 'cu', 'cv', 'cx', 'cy', 'cz', 'de', 'dj', 'dk', 'dm', 'do',\n",
       "       'dz', 'ec', 'ee', 'eg', 'eh', 'er', 'es', 'et', 'fi', 'fj', 'fk',\n",
       "       'fm', 'fo', 'fr', 'ga', 'gb', 'gd', 'ge', 'gf', 'gg', 'gh', 'gi',\n",
       "       'gl', 'gm', 'gn', 'gp', 'gq', 'gr', 'gs', 'gt', 'gw', 'gy', 'hk',\n",
       "       'hn', 'hr', 'ht', 'hu', 'id', 'ie', 'il', 'im', 'in', 'iq', 'ir',\n",
       "       'is', 'it', 'je', 'jm', 'jo', 'jp', 'ke', 'kg', 'kh', 'ki', 'km',\n",
       "       'kn', 'kp', 'kr', 'kw', 'ky', 'kz', 'la', 'lb', 'lc', 'li', 'lk',\n",
       "       'lr', 'ls', 'lt', 'lu', 'lv', 'ly', 'ma', 'mc', 'md', 'me', 'mg',\n",
       "       'mh', 'mk', 'ml', 'mm', 'mn', 'mo', 'mp', 'mq', 'mr', 'ms', 'mt',\n",
       "       'mu', 'mv', 'mw', 'mx', 'my', 'mz', 'na', 'nc', 'ne', 'nf', 'ng',\n",
       "       'ni', 'nl', 'no', 'np', 'nr', 'nu', 'nz', 'om', 'pa', 'pe', 'pf',\n",
       "       'pg', 'ph', 'pk', 'pl', 'pm', 'pn', 'ps', 'pt', 'pw', 'py', 'qa',\n",
       "       're', 'ro', 'rs', 'ru', 'rw', 'sa', 'sb', 'sc', 'sd', 'se', 'sg',\n",
       "       'sh', 'si', 'sj', 'sk', 'sl', 'sm', 'sn', 'so', 'sr', 'st', 'sv',\n",
       "       'sy', 'sz', 'tc', 'td', 'tf', 'tg', 'th', 'tj', 'tk', 'tm', 'tn',\n",
       "       'to', 'tr', 'tt', 'tv', 'tw', 'tz', 'ua', 'ug', 'us', 'uy', 'uz',\n",
       "       'vc', 've', 'vg', 'vi', 'vn', 'vu', 'wf', 'ws', 'ye', 'yt', 'za',\n",
       "       'zm', 'zr', 'zw'], dtype=object)"
      ]
     },
     "execution_count": 204,
     "metadata": {},
     "output_type": "execute_result"
    }
   ],
   "source": [
    "cities[\"Country\"].unique()"
   ]
  },
  {
   "cell_type": "markdown",
   "metadata": {},
   "source": [
    "# Filtering the biggest cities"
   ]
  },
  {
   "cell_type": "code",
   "execution_count": 210,
   "metadata": {},
   "outputs": [
    {
     "data": {
      "text/html": [
       "<div>\n",
       "<style scoped>\n",
       "    .dataframe tbody tr th:only-of-type {\n",
       "        vertical-align: middle;\n",
       "    }\n",
       "\n",
       "    .dataframe tbody tr th {\n",
       "        vertical-align: top;\n",
       "    }\n",
       "\n",
       "    .dataframe thead th {\n",
       "        text-align: right;\n",
       "    }\n",
       "</style>\n",
       "<table border=\"1\" class=\"dataframe\">\n",
       "  <thead>\n",
       "    <tr style=\"text-align: right;\">\n",
       "      <th></th>\n",
       "      <th>City</th>\n",
       "      <th>Latitude</th>\n",
       "      <th>Longitude</th>\n",
       "    </tr>\n",
       "  </thead>\n",
       "  <tbody>\n",
       "    <tr>\n",
       "      <th>727152</th>\n",
       "      <td>berlin</td>\n",
       "      <td>52.516667</td>\n",
       "      <td>13.400000</td>\n",
       "    </tr>\n",
       "    <tr>\n",
       "      <th>729940</th>\n",
       "      <td>bremen</td>\n",
       "      <td>53.083333</td>\n",
       "      <td>8.800000</td>\n",
       "    </tr>\n",
       "    <tr>\n",
       "      <th>731815</th>\n",
       "      <td>cologne</td>\n",
       "      <td>50.933333</td>\n",
       "      <td>6.950000</td>\n",
       "    </tr>\n",
       "    <tr>\n",
       "      <th>733974</th>\n",
       "      <td>dortmund</td>\n",
       "      <td>51.516667</td>\n",
       "      <td>7.450000</td>\n",
       "    </tr>\n",
       "    <tr>\n",
       "      <th>734419</th>\n",
       "      <td>duisburg</td>\n",
       "      <td>51.433333</td>\n",
       "      <td>6.750000</td>\n",
       "    </tr>\n",
       "    <tr>\n",
       "      <th>734643</th>\n",
       "      <td>dusseldorf</td>\n",
       "      <td>51.216667</td>\n",
       "      <td>6.766667</td>\n",
       "    </tr>\n",
       "    <tr>\n",
       "      <th>737170</th>\n",
       "      <td>essen</td>\n",
       "      <td>51.450000</td>\n",
       "      <td>7.016667</td>\n",
       "    </tr>\n",
       "    <tr>\n",
       "      <th>738569</th>\n",
       "      <td>frankfurt</td>\n",
       "      <td>50.116667</td>\n",
       "      <td>8.683333</td>\n",
       "    </tr>\n",
       "    <tr>\n",
       "      <th>744968</th>\n",
       "      <td>hamburg</td>\n",
       "      <td>53.550000</td>\n",
       "      <td>10.000000</td>\n",
       "    </tr>\n",
       "    <tr>\n",
       "      <th>745172</th>\n",
       "      <td>hanover</td>\n",
       "      <td>52.366667</td>\n",
       "      <td>9.716667</td>\n",
       "    </tr>\n",
       "    <tr>\n",
       "      <th>763822</th>\n",
       "      <td>munich</td>\n",
       "      <td>48.150000</td>\n",
       "      <td>11.583300</td>\n",
       "    </tr>\n",
       "    <tr>\n",
       "      <th>782718</th>\n",
       "      <td>stuttgart</td>\n",
       "      <td>48.766667</td>\n",
       "      <td>9.183333</td>\n",
       "    </tr>\n",
       "  </tbody>\n",
       "</table>\n",
       "</div>"
      ],
      "text/plain": [
       "              City   Latitude  Longitude\n",
       "727152      berlin  52.516667  13.400000\n",
       "729940      bremen  53.083333   8.800000\n",
       "731815     cologne  50.933333   6.950000\n",
       "733974    dortmund  51.516667   7.450000\n",
       "734419    duisburg  51.433333   6.750000\n",
       "734643  dusseldorf  51.216667   6.766667\n",
       "737170       essen  51.450000   7.016667\n",
       "738569   frankfurt  50.116667   8.683333\n",
       "744968     hamburg  53.550000  10.000000\n",
       "745172     hanover  52.366667   9.716667\n",
       "763822      munich  48.150000  11.583300\n",
       "782718   stuttgart  48.766667   9.183333"
      ]
     },
     "execution_count": 210,
     "metadata": {},
     "output_type": "execute_result"
    }
   ],
   "source": [
    "fltr = (cities[\"Country\"] == \"de\") & (cities[\"Population\"] > 500000)\n",
    "cities[[\"City\",\"Latitude\",\"Longitude\"]][fltr]"
   ]
  },
  {
   "cell_type": "code",
   "execution_count": 211,
   "metadata": {
    "scrolled": true
   },
   "outputs": [
    {
     "name": "stdout",
     "output_type": "stream",
     "text": [
      "berlin 52.516667000000005 13.4\n",
      "bremen 53.083333 8.8\n",
      "cologne 50.933333000000005 6.95\n",
      "dortmund 51.516667 7.45\n",
      "duisburg 51.433333000000005 6.75\n",
      "dusseldorf 51.216667 6.766667\n",
      "essen 51.45 7.016667\n",
      "frankfurt 50.116667 8.683333\n",
      "hamburg 53.55 10.0\n",
      "hanover 52.366667 9.716667\n",
      "munich 48.15 11.5833\n",
      "stuttgart 48.766667 9.183333\n"
     ]
    }
   ],
   "source": [
    "df = cities[[\"City\",\"Latitude\",\"Longitude\"]][fltr]\n",
    "\n",
    "for index, row in df.iterrows():\n",
    "    print(row['City'], row['Latitude'], row['Longitude'])"
   ]
  },
  {
   "cell_type": "code",
   "execution_count": 222,
   "metadata": {},
   "outputs": [
    {
     "name": "stdout",
     "output_type": "stream",
     "text": [
      "berlin 52.516667000000005 13.4\n",
      "bremen 53.083333 8.8\n",
      "cologne 50.933333000000005 6.95\n",
      "dortmund 51.516667 7.45\n",
      "duisburg 51.433333000000005 6.75\n",
      "dusseldorf 51.216667 6.766667\n",
      "essen 51.45 7.016667\n",
      "frankfurt 50.116667 8.683333\n",
      "hamburg 53.55 10.0\n",
      "hanover 52.366667 9.716667\n",
      "munich 48.15 11.5833\n",
      "stuttgart 48.766667 9.183333\n"
     ]
    }
   ],
   "source": [
    "points = []\n",
    "for index, row in df.iterrows():\n",
    "    print(row['City'], row['Latitude'], row['Longitude'])\n",
    "    points.append((row['Latitude'], row['Longitude']))"
   ]
  },
  {
   "cell_type": "code",
   "execution_count": 223,
   "metadata": {
    "scrolled": true
   },
   "outputs": [
    {
     "data": {
      "text/plain": [
       "[(52.516667000000005, 13.4),\n",
       " (53.083333, 8.8),\n",
       " (50.933333000000005, 6.95),\n",
       " (51.516667, 7.45),\n",
       " (51.433333000000005, 6.75),\n",
       " (51.216667, 6.766667),\n",
       " (51.45, 7.016667),\n",
       " (50.116667, 8.683333),\n",
       " (53.55, 10.0),\n",
       " (52.366667, 9.716667),\n",
       " (48.15, 11.5833),\n",
       " (48.766667, 9.183333)]"
      ]
     },
     "execution_count": 223,
     "metadata": {},
     "output_type": "execute_result"
    }
   ],
   "source": [
    "points"
   ]
  },
  {
   "cell_type": "code",
   "execution_count": 227,
   "metadata": {},
   "outputs": [
    {
     "data": {
      "text/html": [
       "<div style=\"width:100%;\"><div style=\"position:relative;width:100%;height:0;padding-bottom:60%;\"><span style=\"color:#565656\">Make this Notebook Trusted to load map: File -> Trust Notebook</span><iframe src=\"about:blank\" style=\"position:absolute;width:100%;height:100%;left:0;top:0;border:none !important;\" data-html=%3C%21DOCTYPE%20html%3E%0A%3Chead%3E%20%20%20%20%0A%20%20%20%20%3Cmeta%20http-equiv%3D%22content-type%22%20content%3D%22text/html%3B%20charset%3DUTF-8%22%20/%3E%0A%20%20%20%20%0A%20%20%20%20%20%20%20%20%3Cscript%3E%0A%20%20%20%20%20%20%20%20%20%20%20%20L_NO_TOUCH%20%3D%20false%3B%0A%20%20%20%20%20%20%20%20%20%20%20%20L_DISABLE_3D%20%3D%20false%3B%0A%20%20%20%20%20%20%20%20%3C/script%3E%0A%20%20%20%20%0A%20%20%20%20%3Cstyle%3Ehtml%2C%20body%20%7Bwidth%3A%20100%25%3Bheight%3A%20100%25%3Bmargin%3A%200%3Bpadding%3A%200%3B%7D%3C/style%3E%0A%20%20%20%20%3Cstyle%3E%23map%20%7Bposition%3Aabsolute%3Btop%3A0%3Bbottom%3A0%3Bright%3A0%3Bleft%3A0%3B%7D%3C/style%3E%0A%20%20%20%20%3Cscript%20src%3D%22https%3A//cdn.jsdelivr.net/npm/leaflet%401.6.0/dist/leaflet.js%22%3E%3C/script%3E%0A%20%20%20%20%3Cscript%20src%3D%22https%3A//code.jquery.com/jquery-1.12.4.min.js%22%3E%3C/script%3E%0A%20%20%20%20%3Cscript%20src%3D%22https%3A//maxcdn.bootstrapcdn.com/bootstrap/3.2.0/js/bootstrap.min.js%22%3E%3C/script%3E%0A%20%20%20%20%3Cscript%20src%3D%22https%3A//cdnjs.cloudflare.com/ajax/libs/Leaflet.awesome-markers/2.0.2/leaflet.awesome-markers.js%22%3E%3C/script%3E%0A%20%20%20%20%3Clink%20rel%3D%22stylesheet%22%20href%3D%22https%3A//cdn.jsdelivr.net/npm/leaflet%401.6.0/dist/leaflet.css%22/%3E%0A%20%20%20%20%3Clink%20rel%3D%22stylesheet%22%20href%3D%22https%3A//maxcdn.bootstrapcdn.com/bootstrap/3.2.0/css/bootstrap.min.css%22/%3E%0A%20%20%20%20%3Clink%20rel%3D%22stylesheet%22%20href%3D%22https%3A//maxcdn.bootstrapcdn.com/bootstrap/3.2.0/css/bootstrap-theme.min.css%22/%3E%0A%20%20%20%20%3Clink%20rel%3D%22stylesheet%22%20href%3D%22https%3A//maxcdn.bootstrapcdn.com/font-awesome/4.6.3/css/font-awesome.min.css%22/%3E%0A%20%20%20%20%3Clink%20rel%3D%22stylesheet%22%20href%3D%22https%3A//cdnjs.cloudflare.com/ajax/libs/Leaflet.awesome-markers/2.0.2/leaflet.awesome-markers.css%22/%3E%0A%20%20%20%20%3Clink%20rel%3D%22stylesheet%22%20href%3D%22https%3A//cdn.jsdelivr.net/gh/python-visualization/folium/folium/templates/leaflet.awesome.rotate.min.css%22/%3E%0A%20%20%20%20%0A%20%20%20%20%20%20%20%20%20%20%20%20%3Cmeta%20name%3D%22viewport%22%20content%3D%22width%3Ddevice-width%2C%0A%20%20%20%20%20%20%20%20%20%20%20%20%20%20%20%20initial-scale%3D1.0%2C%20maximum-scale%3D1.0%2C%20user-scalable%3Dno%22%20/%3E%0A%20%20%20%20%20%20%20%20%20%20%20%20%3Cstyle%3E%0A%20%20%20%20%20%20%20%20%20%20%20%20%20%20%20%20%23map_fc0b92cbe36b47648e9ee6f3d92694dd%20%7B%0A%20%20%20%20%20%20%20%20%20%20%20%20%20%20%20%20%20%20%20%20position%3A%20relative%3B%0A%20%20%20%20%20%20%20%20%20%20%20%20%20%20%20%20%20%20%20%20width%3A%20100.0%25%3B%0A%20%20%20%20%20%20%20%20%20%20%20%20%20%20%20%20%20%20%20%20height%3A%20100.0%25%3B%0A%20%20%20%20%20%20%20%20%20%20%20%20%20%20%20%20%20%20%20%20left%3A%200.0%25%3B%0A%20%20%20%20%20%20%20%20%20%20%20%20%20%20%20%20%20%20%20%20top%3A%200.0%25%3B%0A%20%20%20%20%20%20%20%20%20%20%20%20%20%20%20%20%7D%0A%20%20%20%20%20%20%20%20%20%20%20%20%3C/style%3E%0A%20%20%20%20%20%20%20%20%0A%3C/head%3E%0A%3Cbody%3E%20%20%20%20%0A%20%20%20%20%0A%20%20%20%20%20%20%20%20%20%20%20%20%3Cdiv%20class%3D%22folium-map%22%20id%3D%22map_fc0b92cbe36b47648e9ee6f3d92694dd%22%20%3E%3C/div%3E%0A%20%20%20%20%20%20%20%20%0A%3C/body%3E%0A%3Cscript%3E%20%20%20%20%0A%20%20%20%20%0A%20%20%20%20%20%20%20%20%20%20%20%20var%20map_fc0b92cbe36b47648e9ee6f3d92694dd%20%3D%20L.map%28%0A%20%20%20%20%20%20%20%20%20%20%20%20%20%20%20%20%22map_fc0b92cbe36b47648e9ee6f3d92694dd%22%2C%0A%20%20%20%20%20%20%20%20%20%20%20%20%20%20%20%20%7B%0A%20%20%20%20%20%20%20%20%20%20%20%20%20%20%20%20%20%20%20%20center%3A%20%5B52.667989%2C%20-1.464582%5D%2C%0A%20%20%20%20%20%20%20%20%20%20%20%20%20%20%20%20%20%20%20%20crs%3A%20L.CRS.EPSG3857%2C%0A%20%20%20%20%20%20%20%20%20%20%20%20%20%20%20%20%20%20%20%20zoom%3A%204%2C%0A%20%20%20%20%20%20%20%20%20%20%20%20%20%20%20%20%20%20%20%20zoomControl%3A%20true%2C%0A%20%20%20%20%20%20%20%20%20%20%20%20%20%20%20%20%20%20%20%20preferCanvas%3A%20false%2C%0A%20%20%20%20%20%20%20%20%20%20%20%20%20%20%20%20%7D%0A%20%20%20%20%20%20%20%20%20%20%20%20%29%3B%0A%0A%20%20%20%20%20%20%20%20%20%20%20%20%0A%0A%20%20%20%20%20%20%20%20%0A%20%20%20%20%0A%20%20%20%20%20%20%20%20%20%20%20%20var%20tile_layer_a186206abbec48efb8a39d537acf30e7%20%3D%20L.tileLayer%28%0A%20%20%20%20%20%20%20%20%20%20%20%20%20%20%20%20%22https%3A//%7Bs%7D.tile.openstreetmap.org/%7Bz%7D/%7Bx%7D/%7By%7D.png%22%2C%0A%20%20%20%20%20%20%20%20%20%20%20%20%20%20%20%20%7B%22attribution%22%3A%20%22Data%20by%20%5Cu0026copy%3B%20%5Cu003ca%20href%3D%5C%22http%3A//openstreetmap.org%5C%22%5Cu003eOpenStreetMap%5Cu003c/a%5Cu003e%2C%20under%20%5Cu003ca%20href%3D%5C%22http%3A//www.openstreetmap.org/copyright%5C%22%5Cu003eODbL%5Cu003c/a%5Cu003e.%22%2C%20%22detectRetina%22%3A%20false%2C%20%22maxNativeZoom%22%3A%2018%2C%20%22maxZoom%22%3A%2018%2C%20%22minZoom%22%3A%200%2C%20%22noWrap%22%3A%20false%2C%20%22opacity%22%3A%201%2C%20%22subdomains%22%3A%20%22abc%22%2C%20%22tms%22%3A%20false%7D%0A%20%20%20%20%20%20%20%20%20%20%20%20%29.addTo%28map_fc0b92cbe36b47648e9ee6f3d92694dd%29%3B%0A%20%20%20%20%20%20%20%20%0A%20%20%20%20%0A%20%20%20%20%20%20%20%20%20%20%20%20var%20marker_7435aa28d02b4a6694f3f2779b0f9341%20%3D%20L.marker%28%0A%20%20%20%20%20%20%20%20%20%20%20%20%20%20%20%20%5B62.516667000000005%2C%2013.4%5D%2C%0A%20%20%20%20%20%20%20%20%20%20%20%20%20%20%20%20%7B%22fillColor%22%3A%20%22%2343d9de%22%2C%20%22radius%22%3A%208%7D%0A%20%20%20%20%20%20%20%20%20%20%20%20%29.addTo%28map_fc0b92cbe36b47648e9ee6f3d92694dd%29%3B%0A%20%20%20%20%20%20%20%20%0A%20%20%20%20%0A%20%20%20%20%20%20%20%20%20%20%20%20var%20marker_a69d14209028453fa1bcd5dc6a301b13%20%3D%20L.marker%28%0A%20%20%20%20%20%20%20%20%20%20%20%20%20%20%20%20%5B53.083333%2C%208.8%5D%2C%0A%20%20%20%20%20%20%20%20%20%20%20%20%20%20%20%20%7B%22fillColor%22%3A%20%22%2343d9de%22%2C%20%22radius%22%3A%208%7D%0A%20%20%20%20%20%20%20%20%20%20%20%20%29.addTo%28map_fc0b92cbe36b47648e9ee6f3d92694dd%29%3B%0A%20%20%20%20%20%20%20%20%0A%20%20%20%20%0A%20%20%20%20%20%20%20%20%20%20%20%20var%20marker_995c633903ba482b9ea5f09c880434b5%20%3D%20L.marker%28%0A%20%20%20%20%20%20%20%20%20%20%20%20%20%20%20%20%5B50.933333000000005%2C%206.95%5D%2C%0A%20%20%20%20%20%20%20%20%20%20%20%20%20%20%20%20%7B%22fillColor%22%3A%20%22%2343d9de%22%2C%20%22radius%22%3A%208%7D%0A%20%20%20%20%20%20%20%20%20%20%20%20%29.addTo%28map_fc0b92cbe36b47648e9ee6f3d92694dd%29%3B%0A%20%20%20%20%20%20%20%20%0A%20%20%20%20%0A%20%20%20%20%20%20%20%20%20%20%20%20var%20marker_b41056cdc79744c09e55e8f87f01848c%20%3D%20L.marker%28%0A%20%20%20%20%20%20%20%20%20%20%20%20%20%20%20%20%5B51.516667%2C%207.45%5D%2C%0A%20%20%20%20%20%20%20%20%20%20%20%20%20%20%20%20%7B%22fillColor%22%3A%20%22%2343d9de%22%2C%20%22radius%22%3A%208%7D%0A%20%20%20%20%20%20%20%20%20%20%20%20%29.addTo%28map_fc0b92cbe36b47648e9ee6f3d92694dd%29%3B%0A%20%20%20%20%20%20%20%20%0A%20%20%20%20%0A%20%20%20%20%20%20%20%20%20%20%20%20var%20marker_d482705b590246cc99b3ee62382382b8%20%3D%20L.marker%28%0A%20%20%20%20%20%20%20%20%20%20%20%20%20%20%20%20%5B51.433333000000005%2C%206.75%5D%2C%0A%20%20%20%20%20%20%20%20%20%20%20%20%20%20%20%20%7B%22fillColor%22%3A%20%22%2343d9de%22%2C%20%22radius%22%3A%208%7D%0A%20%20%20%20%20%20%20%20%20%20%20%20%29.addTo%28map_fc0b92cbe36b47648e9ee6f3d92694dd%29%3B%0A%20%20%20%20%20%20%20%20%0A%20%20%20%20%0A%20%20%20%20%20%20%20%20%20%20%20%20var%20marker_14d62d2a9b584eadae144056736ba9f4%20%3D%20L.marker%28%0A%20%20%20%20%20%20%20%20%20%20%20%20%20%20%20%20%5B51.216667%2C%206.766667%5D%2C%0A%20%20%20%20%20%20%20%20%20%20%20%20%20%20%20%20%7B%22fillColor%22%3A%20%22%2343d9de%22%2C%20%22radius%22%3A%208%7D%0A%20%20%20%20%20%20%20%20%20%20%20%20%29.addTo%28map_fc0b92cbe36b47648e9ee6f3d92694dd%29%3B%0A%20%20%20%20%20%20%20%20%0A%20%20%20%20%0A%20%20%20%20%20%20%20%20%20%20%20%20var%20marker_66d2badebdf548ada6a2664e2004e502%20%3D%20L.marker%28%0A%20%20%20%20%20%20%20%20%20%20%20%20%20%20%20%20%5B51.45%2C%207.016667%5D%2C%0A%20%20%20%20%20%20%20%20%20%20%20%20%20%20%20%20%7B%22fillColor%22%3A%20%22%2343d9de%22%2C%20%22radius%22%3A%208%7D%0A%20%20%20%20%20%20%20%20%20%20%20%20%29.addTo%28map_fc0b92cbe36b47648e9ee6f3d92694dd%29%3B%0A%20%20%20%20%20%20%20%20%0A%20%20%20%20%0A%20%20%20%20%20%20%20%20%20%20%20%20var%20marker_41ca03b92c8747649783abf7dac4d5b9%20%3D%20L.marker%28%0A%20%20%20%20%20%20%20%20%20%20%20%20%20%20%20%20%5B50.116667%2C%208.683333%5D%2C%0A%20%20%20%20%20%20%20%20%20%20%20%20%20%20%20%20%7B%22fillColor%22%3A%20%22%2343d9de%22%2C%20%22radius%22%3A%208%7D%0A%20%20%20%20%20%20%20%20%20%20%20%20%29.addTo%28map_fc0b92cbe36b47648e9ee6f3d92694dd%29%3B%0A%20%20%20%20%20%20%20%20%0A%20%20%20%20%0A%20%20%20%20%20%20%20%20%20%20%20%20var%20marker_5a20870ed3c3404cbced4dad064d359a%20%3D%20L.marker%28%0A%20%20%20%20%20%20%20%20%20%20%20%20%20%20%20%20%5B53.55%2C%2010.0%5D%2C%0A%20%20%20%20%20%20%20%20%20%20%20%20%20%20%20%20%7B%22fillColor%22%3A%20%22%2343d9de%22%2C%20%22radius%22%3A%208%7D%0A%20%20%20%20%20%20%20%20%20%20%20%20%29.addTo%28map_fc0b92cbe36b47648e9ee6f3d92694dd%29%3B%0A%20%20%20%20%20%20%20%20%0A%20%20%20%20%0A%20%20%20%20%20%20%20%20%20%20%20%20var%20marker_871f840bb06744b4bde5d2b67c0f68c4%20%3D%20L.marker%28%0A%20%20%20%20%20%20%20%20%20%20%20%20%20%20%20%20%5B52.366667%2C%209.716667%5D%2C%0A%20%20%20%20%20%20%20%20%20%20%20%20%20%20%20%20%7B%22fillColor%22%3A%20%22%2343d9de%22%2C%20%22radius%22%3A%208%7D%0A%20%20%20%20%20%20%20%20%20%20%20%20%29.addTo%28map_fc0b92cbe36b47648e9ee6f3d92694dd%29%3B%0A%20%20%20%20%20%20%20%20%0A%20%20%20%20%0A%20%20%20%20%20%20%20%20%20%20%20%20var%20marker_59c17df98a094c21b960c057f1e3d4d9%20%3D%20L.marker%28%0A%20%20%20%20%20%20%20%20%20%20%20%20%20%20%20%20%5B48.15%2C%2011.5833%5D%2C%0A%20%20%20%20%20%20%20%20%20%20%20%20%20%20%20%20%7B%22fillColor%22%3A%20%22%2343d9de%22%2C%20%22radius%22%3A%208%7D%0A%20%20%20%20%20%20%20%20%20%20%20%20%29.addTo%28map_fc0b92cbe36b47648e9ee6f3d92694dd%29%3B%0A%20%20%20%20%20%20%20%20%0A%20%20%20%20%0A%20%20%20%20%20%20%20%20%20%20%20%20var%20marker_91bbf98dc9f54090a3028ebfa272704d%20%3D%20L.marker%28%0A%20%20%20%20%20%20%20%20%20%20%20%20%20%20%20%20%5B48.766667%2C%209.183333%5D%2C%0A%20%20%20%20%20%20%20%20%20%20%20%20%20%20%20%20%7B%22fillColor%22%3A%20%22%2343d9de%22%2C%20%22radius%22%3A%208%7D%0A%20%20%20%20%20%20%20%20%20%20%20%20%29.addTo%28map_fc0b92cbe36b47648e9ee6f3d92694dd%29%3B%0A%20%20%20%20%20%20%20%20%0A%3C/script%3E onload=\"this.contentDocument.open();this.contentDocument.write(    decodeURIComponent(this.getAttribute('data-html')));this.contentDocument.close();\" allowfullscreen webkitallowfullscreen mozallowfullscreen></iframe></div></div>"
      ],
      "text/plain": [
       "<folium.folium.Map at 0x18c30907430>"
      ]
     },
     "execution_count": 227,
     "metadata": {},
     "output_type": "execute_result"
    }
   ],
   "source": [
    "import folium\n",
    "latlon = [(62.516667000000005, 13.4),\n",
    " (53.083333, 8.8),\n",
    " (50.933333000000005, 6.95),\n",
    " (51.516667, 7.45),\n",
    " (51.433333000000005, 6.75),\n",
    " (51.216667, 6.766667),\n",
    " (51.45, 7.016667),\n",
    " (50.116667, 8.683333),\n",
    " (53.55, 10.0),\n",
    " (52.366667, 9.716667),\n",
    " (48.15, 11.5833),\n",
    " (48.766667, 9.183333)]\n",
    "mapit = folium.Map( location=[52.667989, -1.464582], zoom_start=4 )\n",
    "for coord in latlon:\n",
    "    folium.Marker( location=[ coord[0], coord[1] ], fill_color='#43d9de', radius=8 ).add_to( mapit )\n",
    "\n",
    "mapit"
   ]
  },
  {
   "cell_type": "code",
   "execution_count": 85,
   "metadata": {},
   "outputs": [
    {
     "name": "stdout",
     "output_type": "stream",
     "text": [
      "Requirement already satisfied: folium in c:\\users\\ekrut\\anaconda3\\lib\\site-packages (0.12.1.post1)\n",
      "Requirement already satisfied: branca>=0.3.0 in c:\\users\\ekrut\\anaconda3\\lib\\site-packages (from folium) (0.4.2)\n",
      "Requirement already satisfied: numpy in c:\\users\\ekrut\\anaconda3\\lib\\site-packages (from folium) (1.20.1)\n",
      "Requirement already satisfied: requests in c:\\users\\ekrut\\anaconda3\\lib\\site-packages (from folium) (2.25.1)\n",
      "Requirement already satisfied: jinja2>=2.9 in c:\\users\\ekrut\\anaconda3\\lib\\site-packages (from folium) (2.11.3)\n",
      "Requirement already satisfied: MarkupSafe>=0.23 in c:\\users\\ekrut\\anaconda3\\lib\\site-packages (from jinja2>=2.9->folium) (1.1.1)\n",
      "Requirement already satisfied: chardet<5,>=3.0.2 in c:\\users\\ekrut\\anaconda3\\lib\\site-packages (from requests->folium) (4.0.0)\n",
      "Requirement already satisfied: idna<3,>=2.5 in c:\\users\\ekrut\\anaconda3\\lib\\site-packages (from requests->folium) (2.10)\n",
      "Requirement already satisfied: urllib3<1.27,>=1.21.1 in c:\\users\\ekrut\\anaconda3\\lib\\site-packages (from requests->folium) (1.26.4)\n",
      "Requirement already satisfied: certifi>=2017.4.17 in c:\\users\\ekrut\\anaconda3\\lib\\site-packages (from requests->folium) (2020.12.5)\n",
      "Note: you may need to restart the kernel to use updated packages.\n"
     ]
    }
   ],
   "source": [
    "%pip install folium"
   ]
  },
  {
   "cell_type": "code",
   "execution_count": 115,
   "metadata": {},
   "outputs": [],
   "source": [
    "import json\n",
    "# Read capital names and coordinates from json file\n",
    "try:\n",
    "  capitals_json = json.load(open('capitals.json'))\n",
    "except:\n",
    "  import urllib.request\n",
    "  url = 'https://raw.githubusercontent.com/Gurobi/modeling-examples/master/traveling_salesman/capitals.json'\n",
    "  data = urllib.request.urlopen(url).read()\n",
    "  capitals_json = json.loads(data)\n",
    "capitals = []\n",
    "coordinates = {}\n",
    "for state in capitals_json:\n",
    "    if state not in ['AK', 'HI']:\n",
    "      capital = capitals_json[state]['capital']\n",
    "      capitals.append(capital)\n",
    "      coordinates[capital] = (float(capitals_json[state]['lat']), float(capitals_json[state]['long']))"
   ]
  },
  {
   "cell_type": "code",
   "execution_count": 117,
   "metadata": {},
   "outputs": [
    {
     "data": {
      "text/plain": [
       "['Montgomery',\n",
       " 'Phoenix',\n",
       " 'Little Rock',\n",
       " 'Sacramento',\n",
       " 'Denver',\n",
       " 'Hartford',\n",
       " 'Dover',\n",
       " 'Tallahassee',\n",
       " 'Atlanta',\n",
       " 'Boise',\n",
       " 'Springfield',\n",
       " 'Indianapolis',\n",
       " 'Des Moines',\n",
       " 'Topeka',\n",
       " 'Frankfort',\n",
       " 'Baton Rouge',\n",
       " 'Augusta',\n",
       " 'Annapolis',\n",
       " 'Boston',\n",
       " 'Lansing',\n",
       " 'Saint Paul',\n",
       " 'Jackson',\n",
       " 'Jefferson City',\n",
       " 'Helana',\n",
       " 'Lincoln',\n",
       " 'Carson City',\n",
       " 'Concord',\n",
       " 'Trenton',\n",
       " 'Santa Fe',\n",
       " 'Albany',\n",
       " 'Raleigh',\n",
       " 'Bismarck',\n",
       " 'Columbus',\n",
       " 'Oklahoma City',\n",
       " 'Salem',\n",
       " 'Harrisburg',\n",
       " 'Providence',\n",
       " 'Columbia',\n",
       " 'Pierre',\n",
       " 'Nashville',\n",
       " 'Austin',\n",
       " 'Salt Lake City',\n",
       " 'Montpelier',\n",
       " 'Richmond',\n",
       " 'Olympia',\n",
       " 'Charleston',\n",
       " 'Madison',\n",
       " 'Cheyenne']"
      ]
     },
     "execution_count": 117,
     "metadata": {},
     "output_type": "execute_result"
    }
   ],
   "source": [
    "capitals"
   ]
  },
  {
   "cell_type": "code",
   "execution_count": 113,
   "metadata": {},
   "outputs": [
    {
     "data": {
      "text/plain": [
       "{'Montgomery': (32.361538, -86.279118),\n",
       " 'Phoenix': (33.448457, -112.073844),\n",
       " 'Little Rock': (34.736009, -92.331122),\n",
       " 'Sacramento': (38.555605, -121.468926),\n",
       " 'Denver': (39.7391667, -104.984167),\n",
       " 'Hartford': (41.767, -72.677),\n",
       " 'Dover': (39.161921, -75.526755),\n",
       " 'Tallahassee': (30.4518, -84.27277),\n",
       " 'Atlanta': (33.76, -84.39),\n",
       " 'Boise': (43.613739, -116.237651),\n",
       " 'Springfield': (39.78325, -89.650373),\n",
       " 'Indianapolis': (39.790942, -86.147685),\n",
       " 'Des Moines': (41.590939, -93.620866),\n",
       " 'Topeka': (39.04, -95.69),\n",
       " 'Frankfort': (38.197274, -84.86311),\n",
       " 'Baton Rouge': (30.45809, -91.140229),\n",
       " 'Augusta': (44.323535, -69.765261),\n",
       " 'Annapolis': (38.972945, -76.501157),\n",
       " 'Boston': (42.2352, -71.0275),\n",
       " 'Lansing': (42.7335, -84.5467),\n",
       " 'Saint Paul': (44.95, -93.094),\n",
       " 'Jackson': (32.32, -90.207),\n",
       " 'Jefferson City': (38.572954, -92.189283),\n",
       " 'Helana': (46.595805, -112.027031),\n",
       " 'Lincoln': (40.809868, -96.675345),\n",
       " 'Carson City': (39.160949, -119.753877),\n",
       " 'Concord': (43.220093, -71.549127),\n",
       " 'Trenton': (40.221741, -74.756138),\n",
       " 'Santa Fe': (35.667231, -105.964575),\n",
       " 'Albany': (42.659829, -73.781339),\n",
       " 'Raleigh': (35.771, -78.638),\n",
       " 'Bismarck': (46.813343, -100.779004),\n",
       " 'Columbus': (39.962245, -83.000647),\n",
       " 'Oklahoma City': (35.482309, -97.534994),\n",
       " 'Salem': (44.931109, -123.029159),\n",
       " 'Harrisburg': (40.269789, -76.875613),\n",
       " 'Providence': (41.82355, -71.422132),\n",
       " 'Columbia': (34.0, -81.035),\n",
       " 'Pierre': (44.367966, -100.336378),\n",
       " 'Nashville': (36.165, -86.784),\n",
       " 'Austin': (30.266667, -97.75),\n",
       " 'Salt Lake City': (40.7547, -111.892622),\n",
       " 'Montpelier': (44.26639, -72.57194),\n",
       " 'Richmond': (37.54, -77.46),\n",
       " 'Olympia': (47.042418, -122.893077),\n",
       " 'Charleston': (38.349497, -81.633294),\n",
       " 'Madison': (43.074722, -89.384444),\n",
       " 'Cheyenne': (41.145548, -104.802042)}"
      ]
     },
     "execution_count": 113,
     "metadata": {},
     "output_type": "execute_result"
    }
   ],
   "source": [
    "coordinates"
   ]
  },
  {
   "cell_type": "code",
   "execution_count": 95,
   "metadata": {
    "scrolled": true
   },
   "outputs": [],
   "source": [
    "import math\n",
    "from itertools import combinations\n",
    "\n",
    "# Compute pairwise distance matrix\n",
    "def distance(city1, city2):\n",
    "    c1 = coordinates[city1]\n",
    "    c2 = coordinates[city2]\n",
    "    diff = (c1[0]-c2[0], c1[1]-c2[1])\n",
    "    return math.sqrt(diff[0]*diff[0]+diff[1]*diff[1])\n",
    "\n",
    "dist = {(c1, c2): distance(c1, c2) for c1, c2 in combinations(capitals, 2)}"
   ]
  },
  {
   "cell_type": "code",
   "execution_count": 96,
   "metadata": {},
   "outputs": [],
   "source": [
    "import gurobipy as gp\n",
    "from gurobipy import GRB\n",
    "\n",
    "# tested with Python 3.7 & Gurobi 9.0.0\n",
    "\n",
    "m = gp.Model()\n",
    "\n",
    "# Variables: is city 'i' adjacent to city 'j' on the tour?\n",
    "vars = m.addVars(dist.keys(), obj=dist, vtype=GRB.BINARY, name='x')\n",
    "\n",
    "# Symmetric direction: Copy the object\n",
    "for i, j in vars.keys():\n",
    "    vars[j, i] = vars[i, j]  # edge in opposite direction\n",
    "\n",
    "# Constraints: two edges incident to each city\n",
    "cons = m.addConstrs(vars.sum(c, '*') == 2 for c in capitals)"
   ]
  },
  {
   "cell_type": "code",
   "execution_count": 101,
   "metadata": {},
   "outputs": [],
   "source": [
    "# Callback - use lazy constraints to eliminate sub-tours\n",
    "\n",
    "def subtourelim(model, where):\n",
    "    if where == GRB.Callback.MIPSOL:\n",
    "        # make a list of edges selected in the solution\n",
    "        vals = model.cbGetSolution(model._vars)\n",
    "        selected = gp.tuplelist((i, j) for i, j in model._vars.keys()\n",
    "                             if vals[i, j] > 0.5)\n",
    "        # find the shortest cycle in the selected edge list\n",
    "        tour = subtour(selected)\n",
    "        if len(tour) < len(capitals):\n",
    "            # add subtour elimination constr. for every pair of cities in subtour\n",
    "            model.cbLazy(gp.quicksum(model._vars[i, j] for i, j in combinations(tour, 2))\n",
    "                         <= len(tour)-1)\n",
    "\n",
    "# Given a tuplelist of edges, find the shortest subtour\n",
    "def subtour(edges):\n",
    "    unvisited = capitals[:]\n",
    "    cycle = capitals[:] # Dummy - guaranteed to be replaced\n",
    "    while unvisited:  # true if list is non-empty\n",
    "        thiscycle = []\n",
    "        neighbors = unvisited\n",
    "        while neighbors:\n",
    "            current = neighbors[0]\n",
    "            thiscycle.append(current)\n",
    "            unvisited.remove(current)\n",
    "            neighbors = [j for i, j in edges.select(current, '*')\n",
    "                         if j in unvisited]\n",
    "        if len(thiscycle) <= len(cycle):\n",
    "            cycle = thiscycle # New shortest subtour\n",
    "    return cycle"
   ]
  },
  {
   "cell_type": "code",
   "execution_count": 102,
   "metadata": {},
   "outputs": [
    {
     "name": "stdout",
     "output_type": "stream",
     "text": [
      "Gurobi Optimizer version 9.5.0 build v9.5.0rc5 (win64)\n",
      "Thread count: 2 physical cores, 4 logical processors, using up to 4 threads\n",
      "Optimize a model with 48 rows, 1128 columns and 2256 nonzeros\n",
      "Model fingerprint: 0x63641a38\n",
      "Variable types: 0 continuous, 1128 integer (1128 binary)\n",
      "Coefficient statistics:\n",
      "  Matrix range     [1e+00, 1e+00]\n",
      "  Objective range  [6e-01, 5e+01]\n",
      "  Bounds range     [1e+00, 1e+00]\n",
      "  RHS range        [2e+00, 2e+00]\n",
      "Presolved: 48 rows, 1128 columns, 2256 nonzeros\n",
      "\n",
      "Continuing optimization...\n",
      "\n",
      "\n",
      "Cutting planes:\n",
      "  Zero half: 10\n",
      "  Lazy constraints: 44\n",
      "\n",
      "Explored 719 nodes (4125 simplex iterations) in 0.02 seconds (0.00 work units)\n",
      "Thread count was 4 (of 4 available processors)\n",
      "\n",
      "Solution count 5: 175.449 176.922 179.022 ... 209.251\n",
      "\n",
      "Optimal solution found (tolerance 1.00e-04)\n",
      "Best objective 1.754490370198e+02, best bound 1.754490370198e+02, gap 0.0000%\n",
      "\n",
      "User-callback calls 30, time in user-callback 0.01 sec\n"
     ]
    }
   ],
   "source": [
    "m._vars = vars\n",
    "m.Params.lazyConstraints = 1\n",
    "m.optimize(subtourelim)"
   ]
  },
  {
   "cell_type": "code",
   "execution_count": 103,
   "metadata": {},
   "outputs": [],
   "source": [
    "# Retrieve solution\n",
    "vals = m.getAttr('x', vars)\n",
    "selected = gp.tuplelist((i, j) for i, j in vals.keys() if vals[i, j] > 0.5)\n",
    "tour = subtour(selected)\n",
    "assert len(tour) == len(capitals)"
   ]
  },
  {
   "cell_type": "code",
   "execution_count": 189,
   "metadata": {},
   "outputs": [
    {
     "data": {
      "text/html": [
       "<div style=\"width:100%;\"><div style=\"position:relative;width:100%;height:0;padding-bottom:60%;\"><span style=\"color:#565656\">Make this Notebook Trusted to load map: File -> Trust Notebook</span><iframe src=\"about:blank\" style=\"position:absolute;width:100%;height:100%;left:0;top:0;border:none !important;\" data-html=%3C%21DOCTYPE%20html%3E%0A%3Chead%3E%20%20%20%20%0A%20%20%20%20%3Cmeta%20http-equiv%3D%22content-type%22%20content%3D%22text/html%3B%20charset%3DUTF-8%22%20/%3E%0A%20%20%20%20%0A%20%20%20%20%20%20%20%20%3Cscript%3E%0A%20%20%20%20%20%20%20%20%20%20%20%20L_NO_TOUCH%20%3D%20false%3B%0A%20%20%20%20%20%20%20%20%20%20%20%20L_DISABLE_3D%20%3D%20false%3B%0A%20%20%20%20%20%20%20%20%3C/script%3E%0A%20%20%20%20%0A%20%20%20%20%3Cstyle%3Ehtml%2C%20body%20%7Bwidth%3A%20100%25%3Bheight%3A%20100%25%3Bmargin%3A%200%3Bpadding%3A%200%3B%7D%3C/style%3E%0A%20%20%20%20%3Cstyle%3E%23map%20%7Bposition%3Aabsolute%3Btop%3A0%3Bbottom%3A0%3Bright%3A0%3Bleft%3A0%3B%7D%3C/style%3E%0A%20%20%20%20%3Cscript%20src%3D%22https%3A//cdn.jsdelivr.net/npm/leaflet%401.6.0/dist/leaflet.js%22%3E%3C/script%3E%0A%20%20%20%20%3Cscript%20src%3D%22https%3A//code.jquery.com/jquery-1.12.4.min.js%22%3E%3C/script%3E%0A%20%20%20%20%3Cscript%20src%3D%22https%3A//maxcdn.bootstrapcdn.com/bootstrap/3.2.0/js/bootstrap.min.js%22%3E%3C/script%3E%0A%20%20%20%20%3Cscript%20src%3D%22https%3A//cdnjs.cloudflare.com/ajax/libs/Leaflet.awesome-markers/2.0.2/leaflet.awesome-markers.js%22%3E%3C/script%3E%0A%20%20%20%20%3Clink%20rel%3D%22stylesheet%22%20href%3D%22https%3A//cdn.jsdelivr.net/npm/leaflet%401.6.0/dist/leaflet.css%22/%3E%0A%20%20%20%20%3Clink%20rel%3D%22stylesheet%22%20href%3D%22https%3A//maxcdn.bootstrapcdn.com/bootstrap/3.2.0/css/bootstrap.min.css%22/%3E%0A%20%20%20%20%3Clink%20rel%3D%22stylesheet%22%20href%3D%22https%3A//maxcdn.bootstrapcdn.com/bootstrap/3.2.0/css/bootstrap-theme.min.css%22/%3E%0A%20%20%20%20%3Clink%20rel%3D%22stylesheet%22%20href%3D%22https%3A//maxcdn.bootstrapcdn.com/font-awesome/4.6.3/css/font-awesome.min.css%22/%3E%0A%20%20%20%20%3Clink%20rel%3D%22stylesheet%22%20href%3D%22https%3A//cdnjs.cloudflare.com/ajax/libs/Leaflet.awesome-markers/2.0.2/leaflet.awesome-markers.css%22/%3E%0A%20%20%20%20%3Clink%20rel%3D%22stylesheet%22%20href%3D%22https%3A//cdn.jsdelivr.net/gh/python-visualization/folium/folium/templates/leaflet.awesome.rotate.min.css%22/%3E%0A%20%20%20%20%0A%20%20%20%20%20%20%20%20%20%20%20%20%3Cmeta%20name%3D%22viewport%22%20content%3D%22width%3Ddevice-width%2C%0A%20%20%20%20%20%20%20%20%20%20%20%20%20%20%20%20initial-scale%3D1.0%2C%20maximum-scale%3D1.0%2C%20user-scalable%3Dno%22%20/%3E%0A%20%20%20%20%20%20%20%20%20%20%20%20%3Cstyle%3E%0A%20%20%20%20%20%20%20%20%20%20%20%20%20%20%20%20%23map_53e22b7e46d94249b846ad4bf1335532%20%7B%0A%20%20%20%20%20%20%20%20%20%20%20%20%20%20%20%20%20%20%20%20position%3A%20relative%3B%0A%20%20%20%20%20%20%20%20%20%20%20%20%20%20%20%20%20%20%20%20width%3A%20100.0%25%3B%0A%20%20%20%20%20%20%20%20%20%20%20%20%20%20%20%20%20%20%20%20height%3A%20100.0%25%3B%0A%20%20%20%20%20%20%20%20%20%20%20%20%20%20%20%20%20%20%20%20left%3A%200.0%25%3B%0A%20%20%20%20%20%20%20%20%20%20%20%20%20%20%20%20%20%20%20%20top%3A%200.0%25%3B%0A%20%20%20%20%20%20%20%20%20%20%20%20%20%20%20%20%7D%0A%20%20%20%20%20%20%20%20%20%20%20%20%3C/style%3E%0A%20%20%20%20%20%20%20%20%0A%3C/head%3E%0A%3Cbody%3E%20%20%20%20%0A%20%20%20%20%0A%20%20%20%20%20%20%20%20%20%20%20%20%3Cdiv%20class%3D%22folium-map%22%20id%3D%22map_53e22b7e46d94249b846ad4bf1335532%22%20%3E%3C/div%3E%0A%20%20%20%20%20%20%20%20%0A%3C/body%3E%0A%3Cscript%3E%20%20%20%20%0A%20%20%20%20%0A%20%20%20%20%20%20%20%20%20%20%20%20var%20map_53e22b7e46d94249b846ad4bf1335532%20%3D%20L.map%28%0A%20%20%20%20%20%20%20%20%20%20%20%20%20%20%20%20%22map_53e22b7e46d94249b846ad4bf1335532%22%2C%0A%20%20%20%20%20%20%20%20%20%20%20%20%20%20%20%20%7B%0A%20%20%20%20%20%20%20%20%20%20%20%20%20%20%20%20%20%20%20%20center%3A%20%5B40.0%2C%20-95.0%5D%2C%0A%20%20%20%20%20%20%20%20%20%20%20%20%20%20%20%20%20%20%20%20crs%3A%20L.CRS.EPSG3857%2C%0A%20%20%20%20%20%20%20%20%20%20%20%20%20%20%20%20%20%20%20%20zoom%3A%204%2C%0A%20%20%20%20%20%20%20%20%20%20%20%20%20%20%20%20%20%20%20%20zoomControl%3A%20true%2C%0A%20%20%20%20%20%20%20%20%20%20%20%20%20%20%20%20%20%20%20%20preferCanvas%3A%20false%2C%0A%20%20%20%20%20%20%20%20%20%20%20%20%20%20%20%20%7D%0A%20%20%20%20%20%20%20%20%20%20%20%20%29%3B%0A%0A%20%20%20%20%20%20%20%20%20%20%20%20%0A%0A%20%20%20%20%20%20%20%20%0A%20%20%20%20%0A%20%20%20%20%20%20%20%20%20%20%20%20var%20tile_layer_a0e2cb4f0fa441c0b477030c594386d6%20%3D%20L.tileLayer%28%0A%20%20%20%20%20%20%20%20%20%20%20%20%20%20%20%20%22https%3A//%7Bs%7D.tile.openstreetmap.org/%7Bz%7D/%7Bx%7D/%7By%7D.png%22%2C%0A%20%20%20%20%20%20%20%20%20%20%20%20%20%20%20%20%7B%22attribution%22%3A%20%22Data%20by%20%5Cu0026copy%3B%20%5Cu003ca%20href%3D%5C%22http%3A//openstreetmap.org%5C%22%5Cu003eOpenStreetMap%5Cu003c/a%5Cu003e%2C%20under%20%5Cu003ca%20href%3D%5C%22http%3A//www.openstreetmap.org/copyright%5C%22%5Cu003eODbL%5Cu003c/a%5Cu003e.%22%2C%20%22detectRetina%22%3A%20false%2C%20%22maxNativeZoom%22%3A%2018%2C%20%22maxZoom%22%3A%2018%2C%20%22minZoom%22%3A%200%2C%20%22noWrap%22%3A%20false%2C%20%22opacity%22%3A%201%2C%20%22subdomains%22%3A%20%22abc%22%2C%20%22tms%22%3A%20false%7D%0A%20%20%20%20%20%20%20%20%20%20%20%20%29.addTo%28map_53e22b7e46d94249b846ad4bf1335532%29%3B%0A%20%20%20%20%20%20%20%20%0A%20%20%20%20%0A%20%20%20%20%20%20%20%20%20%20%20%20var%20poly_line_1aad243abc8d45daaa9a7c04049a5acb%20%3D%20L.polyline%28%0A%20%20%20%20%20%20%20%20%20%20%20%20%20%20%20%20%5B%5B32.361538%2C%20-86.279118%5D%2C%20%5B30.4518%2C%20-84.27277%5D%2C%20%5B33.76%2C%20-84.39%5D%2C%20%5B34.0%2C%20-81.035%5D%2C%20%5B35.771%2C%20-78.638%5D%2C%20%5B37.54%2C%20-77.46%5D%2C%20%5B38.972945%2C%20-76.501157%5D%2C%20%5B39.161921%2C%20-75.526755%5D%2C%20%5B40.221741%2C%20-74.756138%5D%2C%20%5B41.767%2C%20-72.677%5D%2C%20%5B41.82355%2C%20-71.422132%5D%2C%20%5B42.2352%2C%20-71.0275%5D%2C%20%5B44.323535%2C%20-69.765261%5D%2C%20%5B43.220093%2C%20-71.549127%5D%2C%20%5B44.26639%2C%20-72.57194%5D%2C%20%5B42.659829%2C%20-73.781339%5D%2C%20%5B40.269789%2C%20-76.875613%5D%2C%20%5B38.349497%2C%20-81.633294%5D%2C%20%5B39.962245%2C%20-83.000647%5D%2C%20%5B42.7335%2C%20-84.5467%5D%2C%20%5B43.074722%2C%20-89.384444%5D%2C%20%5B44.95%2C%20-93.094%5D%2C%20%5B41.590939%2C%20-93.620866%5D%2C%20%5B39.04%2C%20-95.69%5D%2C%20%5B40.809868%2C%20-96.675345%5D%2C%20%5B44.367966%2C%20-100.336378%5D%2C%20%5B46.813343%2C%20-100.779004%5D%2C%20%5B41.145548%2C%20-104.802042%5D%2C%20%5B39.7391667%2C%20-104.984167%5D%2C%20%5B40.7547%2C%20-111.892622%5D%2C%20%5B46.595805%2C%20-112.027031%5D%2C%20%5B43.613739%2C%20-116.237651%5D%2C%20%5B47.042418%2C%20-122.893077%5D%2C%20%5B44.931109%2C%20-123.029159%5D%2C%20%5B38.555605%2C%20-121.468926%5D%2C%20%5B39.160949%2C%20-119.753877%5D%2C%20%5B33.448457%2C%20-112.073844%5D%2C%20%5B35.667231%2C%20-105.964575%5D%2C%20%5B35.482309%2C%20-97.534994%5D%2C%20%5B30.266667%2C%20-97.75%5D%2C%20%5B30.45809%2C%20-91.140229%5D%2C%20%5B32.32%2C%20-90.207%5D%2C%20%5B34.736009%2C%20-92.331122%5D%2C%20%5B38.572954%2C%20-92.189283%5D%2C%20%5B39.78325%2C%20-89.650373%5D%2C%20%5B39.790942%2C%20-86.147685%5D%2C%20%5B38.197274%2C%20-84.86311%5D%2C%20%5B36.165%2C%20-86.784%5D%2C%20%5B32.361538%2C%20-86.279118%5D%5D%2C%0A%20%20%20%20%20%20%20%20%20%20%20%20%20%20%20%20%7B%22bubblingMouseEvents%22%3A%20true%2C%20%22color%22%3A%20%22%233388ff%22%2C%20%22dashArray%22%3A%20null%2C%20%22dashOffset%22%3A%20null%2C%20%22fill%22%3A%20false%2C%20%22fillColor%22%3A%20%22%233388ff%22%2C%20%22fillOpacity%22%3A%200.2%2C%20%22fillRule%22%3A%20%22evenodd%22%2C%20%22lineCap%22%3A%20%22round%22%2C%20%22lineJoin%22%3A%20%22round%22%2C%20%22noClip%22%3A%20false%2C%20%22opacity%22%3A%201.0%2C%20%22smoothFactor%22%3A%201.0%2C%20%22stroke%22%3A%20true%2C%20%22weight%22%3A%203%7D%0A%20%20%20%20%20%20%20%20%20%20%20%20%29.addTo%28map_53e22b7e46d94249b846ad4bf1335532%29%3B%0A%20%20%20%20%20%20%20%20%0A%3C/script%3E onload=\"this.contentDocument.open();this.contentDocument.write(    decodeURIComponent(this.getAttribute('data-html')));this.contentDocument.close();\" allowfullscreen webkitallowfullscreen mozallowfullscreen></iframe></div></div>"
      ],
      "text/plain": [
       "<folium.folium.Map at 0x18b11364190>"
      ]
     },
     "execution_count": 189,
     "metadata": {},
     "output_type": "execute_result"
    }
   ],
   "source": [
    "import folium\n",
    "map = folium.Map(location=[40,-95], zoom_start = 4)\n",
    "points = []\n",
    "for city in tour:\n",
    "  points.append(coordinates[city])\n",
    "points.append(points[0])\n",
    "folium.PolyLine(points).add_to(map)\n",
    "map"
   ]
  },
  {
   "cell_type": "code",
   "execution_count": 154,
   "metadata": {},
   "outputs": [
    {
     "data": {
      "text/plain": [
       "[(32.361538, -86.279118),\n",
       " (30.4518, -84.27277),\n",
       " (33.76, -84.39),\n",
       " (34.0, -81.035),\n",
       " (35.771, -78.638),\n",
       " (37.54, -77.46),\n",
       " (38.972945, -76.501157),\n",
       " (39.161921, -75.526755),\n",
       " (40.221741, -74.756138),\n",
       " (41.767, -72.677),\n",
       " (41.82355, -71.422132),\n",
       " (42.2352, -71.0275),\n",
       " (44.323535, -69.765261),\n",
       " (43.220093, -71.549127),\n",
       " (44.26639, -72.57194),\n",
       " (42.659829, -73.781339),\n",
       " (40.269789, -76.875613),\n",
       " (38.349497, -81.633294),\n",
       " (39.962245, -83.000647),\n",
       " (42.7335, -84.5467),\n",
       " (43.074722, -89.384444),\n",
       " (44.95, -93.094),\n",
       " (41.590939, -93.620866),\n",
       " (39.04, -95.69),\n",
       " (40.809868, -96.675345),\n",
       " (44.367966, -100.336378),\n",
       " (46.813343, -100.779004),\n",
       " (41.145548, -104.802042),\n",
       " (39.7391667, -104.984167),\n",
       " (40.7547, -111.892622),\n",
       " (46.595805, -112.027031),\n",
       " (43.613739, -116.237651),\n",
       " (47.042418, -122.893077),\n",
       " (44.931109, -123.029159),\n",
       " (38.555605, -121.468926),\n",
       " (39.160949, -119.753877),\n",
       " (33.448457, -112.073844),\n",
       " (35.667231, -105.964575),\n",
       " (35.482309, -97.534994),\n",
       " (30.266667, -97.75),\n",
       " (30.45809, -91.140229),\n",
       " (32.32, -90.207),\n",
       " (34.736009, -92.331122),\n",
       " (38.572954, -92.189283),\n",
       " (39.78325, -89.650373),\n",
       " (39.790942, -86.147685),\n",
       " (38.197274, -84.86311),\n",
       " (36.165, -86.784),\n",
       " (32.361538, -86.279118)]"
      ]
     },
     "execution_count": 154,
     "metadata": {},
     "output_type": "execute_result"
    }
   ],
   "source": [
    "points"
   ]
  },
  {
   "cell_type": "code",
   "execution_count": null,
   "metadata": {},
   "outputs": [],
   "source": []
  }
 ],
 "metadata": {
  "kernelspec": {
   "display_name": "Python 3",
   "language": "python",
   "name": "python3"
  },
  "language_info": {
   "codemirror_mode": {
    "name": "ipython",
    "version": 3
   },
   "file_extension": ".py",
   "mimetype": "text/x-python",
   "name": "python",
   "nbconvert_exporter": "python",
   "pygments_lexer": "ipython3",
   "version": "3.8.8"
  }
 },
 "nbformat": 4,
 "nbformat_minor": 4
}
