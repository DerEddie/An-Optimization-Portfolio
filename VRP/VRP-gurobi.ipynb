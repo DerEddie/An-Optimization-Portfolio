{
 "cells": [
  {
   "cell_type": "code",
   "execution_count": 1,
   "id": "1b62331a",
   "metadata": {},
   "outputs": [],
   "source": [
    "import gurobipy\n",
    "import numpy as np\n",
    "import matplotlib.pyplot as plt"
   ]
  },
  {
   "cell_type": "markdown",
   "id": "f86befea",
   "metadata": {},
   "source": [
    "[https://www.gurobi.com/](https://www.gurobi.com/) A really good optimization software used by companies like toyota, mercedes, basf etc."
   ]
  },
  {
   "cell_type": "markdown",
   "id": "78d322b4",
   "metadata": {},
   "source": [
    "## Generating problem instance..."
   ]
  },
  {
   "cell_type": "code",
   "execution_count": 2,
   "id": "a639e37c",
   "metadata": {
    "scrolled": true
   },
   "outputs": [
    {
     "data": {
      "image/png": "[encoded data removed]",
      "text/plain": [
       "<Figure size 800x480 with 1 Axes>"
      ]
     },
     "metadata": {
      "needs_background": "light"
     },
     "output_type": "display_data"
    }
   ],
   "source": [
    "#Input Data\n",
    "rnd = np.random\n",
    "n = 30\n",
    "xc = rnd.rand(n+1)*200\n",
    "yc = rnd.rand(n+1)*100\n",
    "N = [i for i in range(1,n+1)]\n",
    "V = [0] + N\n",
    "A = [(i,j) for i in V for j in V if i != j]\n",
    "c = {(i,j): np.hypot(xc[i]-xc[j], yc[i]-yc[j]) for i,j in A}\n",
    "Q = 50\n",
    "q = {i: rnd.randint(1,10) for i in N}\n",
    "plt.figure(figsize=(10, 6), dpi=80)\n",
    "plt.plot(xc[0], yc[0], c='r', marker='s')\n",
    "plt.scatter(xc[1:], yc[1:], c = 'b')\n",
    "\n",
    "\n",
    "for i, txt in enumerate(q):\n",
    "    plt.annotate(txt, (xc[i]+3, yc[i]+3))\n",
    "\n"
   ]
  },
  {
   "cell_type": "markdown",
   "id": "6c9f9528",
   "metadata": {},
   "source": [
    "## Building the mathematical model"
   ]
  },
  {
   "cell_type": "code",
   "execution_count": 3,
   "id": "d71d5e51",
   "metadata": {},
   "outputs": [],
   "source": [
    "from gurobipy import Model, GRB, quicksum"
   ]
  },
  {
   "cell_type": "code",
   "execution_count": 4,
   "id": "f925988d",
   "metadata": {},
   "outputs": [
    {
     "name": "stdout",
     "output_type": "stream",
     "text": [
      "Set parameter Username\n",
      "Academic license - for non-commercial use only - expires 2022-03-22\n",
      "Set parameter TimeLimit to value 30\n"
     ]
    }
   ],
   "source": [
    "mdl = Model(\"CVRP\")\n",
    "mdl.setParam('TimeLimit', 30)"
   ]
  },
  {
   "cell_type": "code",
   "execution_count": 5,
   "id": "b8206383",
   "metadata": {},
   "outputs": [],
   "source": [
    "x = mdl.addVars(A, vtype=GRB.BINARY)\n",
    "u = mdl.addVars(N, vtype=GRB.CONTINUOUS)"
   ]
  },
  {
   "cell_type": "code",
   "execution_count": 6,
   "id": "63aae0e8",
   "metadata": {},
   "outputs": [],
   "source": [
    "mdl.modelSense = GRB.MINIMIZE"
   ]
  },
  {
   "cell_type": "code",
   "execution_count": 7,
   "id": "6b9abbb7",
   "metadata": {},
   "outputs": [],
   "source": [
    "mdl.setObjective(quicksum(x[a]*c[a] for a in A))\n"
   ]
  },
  {
   "cell_type": "markdown",
   "id": "dad22c29",
   "metadata": {},
   "source": [
    "min! $\\sum_{i,j \\in \\mathcal{A}}  c_{i,j} \\cdot d_{i,j}$ "
   ]
  },
  {
   "cell_type": "markdown",
   "id": "fe13f366",
   "metadata": {},
   "source": [
    "$\\sum_{j \\in \\mathcal{V}, j \\neq i}  x_{i,j} = 1 \\;\\; \\forall i \\in N $ "
   ]
  },
  {
   "cell_type": "markdown",
   "id": "03ffa51d",
   "metadata": {},
   "source": [
    "$\\sum_{j \\in \\mathcal{V}, j \\neq i}  x_{i,j} = 1 \\;\\; \\forall j \\in N $ "
   ]
  },
  {
   "cell_type": "markdown",
   "id": "73a6d97f",
   "metadata": {},
   "source": [
    "if $x_{i,j} \\rightarrow u_i + q_j = u_j \\,\\,\\, \\forall  k \\in \\mathcal{K} ,t \\in \\mathcal{T}$"
   ]
  },
  {
   "cell_type": "markdown",
   "id": "426a06ca",
   "metadata": {},
   "source": [
    "$q_i \\leq u_i \\leq Q \\; \\forall i \\in N$"
   ]
  },
  {
   "cell_type": "markdown",
   "id": "a3dd94f3",
   "metadata": {},
   "source": [
    "$x_{i,j} \\in {0,1}$"
   ]
  },
  {
   "cell_type": "code",
   "execution_count": 8,
   "id": "4786877b",
   "metadata": {},
   "outputs": [],
   "source": [
    "mdl.addConstrs(quicksum(x[i,j] for j in V if j!=i)== 1 for i in N);\n",
    "mdl.addConstrs(quicksum(x[i,j] for i in V if j!=i)== 1 for j in N);\n",
    "mdl.addConstrs((x[i,j] == 1) >> (u[i] + q[i] == u[j])\n",
    "              for i,j in A if i!=0 and j!=0);\n",
    "mdl.addConstrs(u[i] >= q[i] for  i in N);\n",
    "mdl.addConstrs(u[i] <= Q for i in N);"
   ]
  },
  {
   "cell_type": "markdown",
   "id": "2c8976d2",
   "metadata": {},
   "source": [
    "## Perform Solution procedure with gurobi"
   ]
  },
  {
   "cell_type": "code",
   "execution_count": 9,
   "id": "f351aaf4",
   "metadata": {},
   "outputs": [
    {
     "name": "stdout",
     "output_type": "stream",
     "text": [
      "Gurobi Optimizer version 9.5.0 build v9.5.0rc5 (win64)\n",
      "Thread count: 2 physical cores, 4 logical processors, using up to 4 threads\n",
      "Optimize a model with 120 rows, 960 columns and 1860 nonzeros\n",
      "Model fingerprint: 0x51920be1\n",
      "Model has 870 general constraints\n",
      "Variable types: 30 continuous, 930 integer (930 binary)\n",
      "Coefficient statistics:\n",
      "  Matrix range     [1e+00, 1e+00]\n",
      "  Objective range  [3e+00, 2e+02]\n",
      "  Bounds range     [1e+00, 1e+00]\n",
      "  RHS range        [1e+00, 5e+01]\n",
      "  GenCon rhs range [1e+00, 9e+00]\n",
      "  GenCon coe range [1e+00, 1e+00]\n",
      "Presolve added 2039 rows and 397 columns\n",
      "Presolve time: 0.16s\n",
      "Presolved: 2159 rows, 1357 columns, 13097 nonzeros\n",
      "Variable types: 427 continuous, 930 integer (930 binary)\n",
      "Found heuristic solution: objective 3254.9416455\n",
      "\n",
      "Root relaxation: objective 4.683619e+02, 146 iterations, 0.01 seconds (0.00 work units)\n",
      "\n",
      "    Nodes    |    Current Node    |     Objective Bounds      |     Work\n",
      " Expl Unexpl |  Obj  Depth IntInf | Incumbent    BestBd   Gap | It/Node Time\n",
      "\n",
      "     0     0  468.36195    0   56 3254.94165  468.36195  85.6%     -    0s\n",
      "H    0     0                    2947.7966461  468.36195  84.1%     -    0s\n",
      "H    0     0                    1423.6875088  468.36195  67.1%     -    0s\n",
      "H    0     0                    1423.3426999  468.36195  67.1%     -    0s\n",
      "     0     0  552.54260    0   60 1423.34270  552.54260  61.2%     -    0s\n",
      "H    0     0                    1052.5783678  552.54260  47.5%     -    0s\n",
      "     0     0  552.54260    0   60 1052.57837  552.54260  47.5%     -    0s\n",
      "     0     0  553.10049    0   62 1052.57837  553.10049  47.5%     -    0s\n",
      "H    0     0                    1042.2881385  553.10049  46.9%     -    0s\n",
      "H    0     0                     915.0929709  553.10049  39.6%     -    0s\n",
      "     0     0  553.22269    0   62  915.09297  553.22269  39.5%     -    0s\n",
      "     0     0  553.56274    0   62  915.09297  553.56274  39.5%     -    0s\n",
      "     0     0  553.56274    0   62  915.09297  553.56274  39.5%     -    0s\n",
      "     0     0  553.56274    0   62  915.09297  553.56274  39.5%     -    0s\n",
      "H    0     0                     890.8238867  553.56274  37.9%     -    0s\n",
      "     0     0  553.56274    0   62  890.82389  553.56274  37.9%     -    0s\n",
      "     0     0  553.56274    0   62  890.82389  553.56274  37.9%     -    0s\n",
      "     0     0  553.56274    0   62  890.82389  553.56274  37.9%     -    1s\n",
      "     0     0  553.56274    0   62  890.82389  553.56274  37.9%     -    1s\n",
      "     0     0  553.56274    0   62  890.82389  553.56274  37.9%     -    1s\n",
      "     0     2  557.60537    0   62  890.82389  557.60537  37.4%     -    1s\n",
      "H  169   178                     886.7241745  560.05938  36.8%   6.8    2s\n",
      "H  455   394                     829.6927412  560.46226  32.4%   8.2    3s\n",
      "H  488   383                     801.5660405  560.46226  30.1%   8.1    3s\n",
      "H  544   409                     800.9977812  561.06403  30.0%   7.9    3s\n",
      "H  545   375                     758.9538683  561.06403  26.1%   7.9    3s\n",
      "H  589   401                     738.9019181  561.06403  24.1%   7.9    4s\n",
      "   776   566  635.14529   57   61  738.90192  563.18613  23.8%   8.1    5s\n",
      "   801   586  568.19620   14   72  738.90192  568.19620  23.1%   9.0   10s\n",
      "H  968   671                     732.3110600  568.77879  22.3%  12.4   11s\n",
      "H  971   642                     710.3862941  568.77879  19.9%  12.5   11s\n",
      "H 1257   688                     702.3927632  571.01984  18.7%  14.1   14s\n",
      "H 1258   677                     700.7720697  571.01984  18.5%  14.1   14s\n",
      "  1280   706  596.75633   49   67  700.77207  571.01984  18.5%  14.0   15s\n",
      "H 1975   920                     693.3011349  573.24015  17.3%  12.7   17s\n",
      "  2722  1411  639.22300   27   53  693.30113  578.79097  16.5%  12.7   20s\n",
      "  4480  2469  604.49228   51   35  693.30113  584.61055  15.7%  13.1   25s\n",
      "H 6116  3391                     690.4403664  588.03104  14.8%  13.0   29s\n",
      "  6168  3497  650.81360   77   32  690.44037  588.16008  14.8%  13.1   30s\n",
      "\n",
      "Cutting planes:\n",
      "  Learned: 1\n",
      "  Gomory: 19\n",
      "  Cover: 2\n",
      "  Implied bound: 6\n",
      "  Projected implied bound: 16\n",
      "  MIR: 9\n",
      "  StrongCG: 1\n",
      "  Flow cover: 16\n",
      "  Inf proof: 1\n",
      "  Zero half: 6\n",
      "  Relax-and-lift: 5\n",
      "\n",
      "Explored 6340 nodes (83431 simplex iterations) in 30.03 seconds (23.98 work units)\n",
      "Thread count was 4 (of 4 available processors)\n",
      "\n",
      "Solution count 10: 690.44 693.301 700.772 ... 801.566\n",
      "\n",
      "Time limit reached\n",
      "Best objective 6.904403663647e+02, best bound 5.884535296376e+02, gap 14.7713%\n"
     ]
    }
   ],
   "source": [
    "mdl.optimize()"
   ]
  },
  {
   "cell_type": "code",
   "execution_count": 10,
   "id": "760f5756",
   "metadata": {},
   "outputs": [],
   "source": [
    "active_arcs = [a for a in A if x[a].x > 0.99]"
   ]
  },
  {
   "cell_type": "code",
   "execution_count": 11,
   "id": "f684d795",
   "metadata": {},
   "outputs": [
    {
     "data": {
      "image/png": "[encoded data removed]",
      "text/plain": [
       "<Figure size 800x480 with 1 Axes>"
      ]
     },
     "metadata": {
      "needs_background": "light"
     },
     "output_type": "display_data"
    }
   ],
   "source": [
    "plt.figure(figsize=(10, 6), dpi=80)  \n",
    "for i,j in active_arcs:\n",
    "    plt.plot([xc[i], xc[j]], [yc[i], yc[j]], c='g', zorder=0)\n",
    "  \n",
    "plt.plot(xc[0], yc[0], c='r', marker='s')\n",
    "plt.scatter(xc[1:], yc[1:], c='b')\n",
    "\n",
    "for i, txt in enumerate(q):\n",
    "    plt.annotate(txt, (xc[i]+3, yc[i]+3))\n",
    "\n",
    "\n"
   ]
  },
  {
   "cell_type": "code",
   "execution_count": 12,
   "id": "15adf98a",
   "metadata": {},
   "outputs": [],
   "source": [
    "def findEdgeByStartingNode(Node, li):\n",
    "    for e in li:\n",
    "        if(e[0] == Node):\n",
    "            return e"
   ]
  },
  {
   "cell_type": "code",
   "execution_count": 13,
   "id": "bb872655",
   "metadata": {},
   "outputs": [
    {
     "name": "stdout",
     "output_type": "stream",
     "text": [
      "(13, 18)\n",
      "(18, 7)\n",
      "(7, 2)\n",
      "(2, 12)\n",
      "(12, 9)\n",
      "(9, 15)\n",
      "(15, 8)\n",
      "(8, 5)\n",
      "(5, 19)\n",
      "(19, 0)\n",
      "(24, 3)\n",
      "(3, 30)\n",
      "(30, 25)\n",
      "(25, 4)\n",
      "(4, 26)\n",
      "(26, 10)\n",
      "(10, 1)\n",
      "(1, 14)\n",
      "(14, 0)\n",
      "(28, 22)\n",
      "(22, 27)\n",
      "(27, 21)\n",
      "(21, 29)\n",
      "(29, 16)\n",
      "(16, 17)\n",
      "(17, 20)\n",
      "(20, 6)\n",
      "(6, 23)\n",
      "(23, 11)\n",
      "(11, 0)\n"
     ]
    }
   ],
   "source": [
    "active_arcs = [(0, 13),\n",
    " (0, 24),\n",
    " (0, 28),\n",
    " (1, 14),\n",
    " (2, 12),\n",
    " (3, 30),\n",
    " (4, 26),\n",
    " (5, 19),\n",
    " (6, 23),\n",
    " (7, 2),\n",
    " (8, 5),\n",
    " (9, 15),\n",
    " (10, 1),\n",
    " (11, 0),\n",
    " (12, 9),\n",
    " (13, 18),\n",
    " (14, 0),\n",
    " (15, 8),\n",
    " (16, 17),\n",
    " (17, 20),\n",
    " (18, 7),\n",
    " (19, 0),\n",
    " (20, 6),\n",
    " (21, 29),\n",
    " (22, 27),\n",
    " (23, 11),\n",
    " (24, 3),\n",
    " (25, 4),\n",
    " (26, 10),\n",
    " (27, 21),\n",
    " (28, 22),\n",
    " (29, 16),\n",
    " (30, 25)]\n",
    "\n",
    "def GetRouteRemoveEdgesFromLi(startingEdge, li):\n",
    "    x = startingEdge\n",
    "    tour = []\n",
    "    tour.append(startingEdge)\n",
    "    \n",
    "    while(True):\n",
    "        x = findEdgeByStartingNode(x[1], li)\n",
    "        tour.append(x)\n",
    "        \n",
    "        print(x)\n",
    "        if(x[1] == 0):\n",
    "            break\n",
    "            \n",
    "        li.pop(li.index(x))\n",
    "    \n",
    "    return tour\n",
    "\n",
    "res = []\n",
    "\n",
    "for i in range(0,3):\n",
    "    res.append(GetRouteRemoveEdgesFromLi(active_arcs[i],active_arcs))"
   ]
  },
  {
   "cell_type": "code",
   "execution_count": 14,
   "id": "84bd459a",
   "metadata": {},
   "outputs": [
    {
     "data": {
      "text/plain": [
       "[(0, 13),\n",
       " (13, 18),\n",
       " (18, 7),\n",
       " (7, 2),\n",
       " (2, 12),\n",
       " (12, 9),\n",
       " (9, 15),\n",
       " (15, 8),\n",
       " (8, 5),\n",
       " (5, 19),\n",
       " (19, 0)]"
      ]
     },
     "execution_count": 14,
     "metadata": {},
     "output_type": "execute_result"
    }
   ],
   "source": [
    "res[0]"
   ]
  },
  {
   "cell_type": "raw",
   "id": "583871a0",
   "metadata": {},
   "source": [
    "#eduard krutitsky"
   ]
  },
  {
   "cell_type": "code",
   "execution_count": null,
   "id": "02cb4ac6",
   "metadata": {},
   "outputs": [],
   "source": []
  }
 ],
 "metadata": {
  "kernelspec": {
   "display_name": "Python 3",
   "language": "python",
   "name": "python3"
  },
  "language_info": {
   "codemirror_mode": {
    "name": "ipython",
    "version": 3
   },
   "file_extension": ".py",
   "mimetype": "text/x-python",
   "name": "python",
   "nbconvert_exporter": "python",
   "pygments_lexer": "ipython3",
   "version": "3.8.8"
  }
 },
 "nbformat": 4,
 "nbformat_minor": 5
}
