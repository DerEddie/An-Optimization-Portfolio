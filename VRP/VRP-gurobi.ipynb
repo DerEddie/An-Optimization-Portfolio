{
 "cells": [
  {
   "cell_type": "code",
   "execution_count": 82,
   "id": "1b62331a",
   "metadata": {},
   "outputs": [],
   "source": [
    "import gurobipy\n",
    "import numpy as np\n",
    "import matplotlib.pyplot as plt"
   ]
  },
  {
   "cell_type": "code",
   "execution_count": 71,
   "id": "a639e37c",
   "metadata": {},
   "outputs": [
    {
     "data": {
      "image/png": "[encoded data removed]",
      "text/plain": [
       "<Figure size 432x288 with 1 Axes>"
      ]
     },
     "metadata": {
      "needs_background": "light"
     },
     "output_type": "display_data"
    }
   ],
   "source": [
    "#Input Data\n",
    "rnd = np.random\n",
    "rnd.seed(10)\n",
    "n = 50\n",
    "xc = rnd.rand(n+1)*200\n",
    "yc = rnd.rand(n+1)*100\n",
    "\n",
    "plt.plot(xc[0], yc[0], c='r', marker='s')\n",
    "plt.scatter(xc[1:], yc[1:], c = 'b')\n",
    "\n",
    "N = [i for i in range(1,n+1)]\n",
    "V = [0] + N\n",
    "A = [(i,j) for i in V for j in V if i != j]\n",
    "c = {(i,j): np.hypot(xc[i]-xc[j], yc[i]-yc[j]) for i,j in A}\n",
    "Q = 20\n",
    "q = {i: rnd.randint(1,10) for i in N}\n"
   ]
  },
  {
   "cell_type": "code",
   "execution_count": 72,
   "id": "d71d5e51",
   "metadata": {},
   "outputs": [],
   "source": [
    "from gurobipy import Model, GRB, quicksum"
   ]
  },
  {
   "cell_type": "code",
   "execution_count": 73,
   "id": "f925988d",
   "metadata": {},
   "outputs": [],
   "source": [
    "mdl = Model(\"CVRP\")"
   ]
  },
  {
   "cell_type": "code",
   "execution_count": 74,
   "id": "b8206383",
   "metadata": {},
   "outputs": [],
   "source": [
    "x = mdl.addVars(A, vtype=GRB.BINARY)\n",
    "u = mdl.addVars(N, vtype=GRB.CONTINUOUS)"
   ]
  },
  {
   "cell_type": "code",
   "execution_count": 75,
   "id": "63aae0e8",
   "metadata": {},
   "outputs": [],
   "source": [
    "mdl.modelSense = GRB.MINIMIZE"
   ]
  },
  {
   "cell_type": "code",
   "execution_count": 76,
   "id": "6b9abbb7",
   "metadata": {},
   "outputs": [
    {
     "name": "stdout",
     "output_type": "stream",
     "text": [
      "Set parameter TimeLimit to value 20\n"
     ]
    }
   ],
   "source": [
    "mdl.setObjective(quicksum(x[a]*c[a] for a in A))\n",
    "mdl.Params.TimeLimit = 20\n"
   ]
  },
  {
   "cell_type": "code",
   "execution_count": 77,
   "id": "8209f809",
   "metadata": {},
   "outputs": [],
   "source": [
    "mdl.addConstrs(quicksum(x[i,j] for j in V if j!=i)== 1 for i in N);\n",
    "mdl.addConstrs(quicksum(x[i,j] for i in V if j!=i)== 1 for j in N);\n",
    "mdl.addConstrs((x[i,j] == 1) >> (u[i] + q[i] == u[j])\n",
    "              for i,j in A if i!=0 and j!=0);\n",
    "mdl.addConstrs(u[i] >= q[i] for  i in N);\n",
    "mdl.addConstrs(u[i] <= Q for i in N);"
   ]
  },
  {
   "cell_type": "code",
   "execution_count": 78,
   "id": "f351aaf4",
   "metadata": {},
   "outputs": [
    {
     "name": "stdout",
     "output_type": "stream",
     "text": [
      "Gurobi Optimizer version 9.5.0 build v9.5.0rc5 (win64)\n",
      "Thread count: 2 physical cores, 4 logical processors, using up to 4 threads\n",
      "Optimize a model with 200 rows, 2600 columns and 5100 nonzeros\n",
      "Model fingerprint: 0xa5e34e18\n",
      "Model has 2450 general constraints\n",
      "Variable types: 50 continuous, 2550 integer (2550 binary)\n",
      "Coefficient statistics:\n",
      "  Matrix range     [1e+00, 1e+00]\n",
      "  Objective range  [3e+00, 2e+02]\n",
      "  Bounds range     [1e+00, 1e+00]\n",
      "  RHS range        [1e+00, 2e+01]\n",
      "  GenCon rhs range [1e+00, 9e+00]\n",
      "  GenCon coe range [1e+00, 1e+00]\n",
      "Presolve added 6024 rows and 1230 columns\n",
      "Presolve time: 0.27s\n",
      "Presolved: 6224 rows, 3830 columns, 36026 nonzeros\n",
      "Variable types: 1275 continuous, 2555 integer (2550 binary)\n",
      "Found heuristic solution: objective 8075.2425359\n",
      "\n",
      "Root relaxation: objective 7.039403e+02, 258 iterations, 0.04 seconds (0.02 work units)\n",
      "\n",
      "    Nodes    |    Current Node    |     Objective Bounds      |     Work\n",
      " Expl Unexpl |  Obj  Depth IntInf | Incumbent    BestBd   Gap | It/Node Time\n",
      "\n",
      "     0     0  703.94031    0  103 8075.24254  703.94031  91.3%     -    0s\n",
      "H    0     0                    7327.4178794  703.94031  90.4%     -    0s\n",
      "H    0     0                    3894.3726113  703.94031  81.9%     -    0s\n",
      "H    0     0                    3650.5172675  703.94031  80.7%     -    0s\n",
      "     0     0  862.74737    0  113 3650.51727  862.74737  76.4%     -    0s\n",
      "H    0     0                    3639.2681095  862.74737  76.3%     -    0s\n",
      "     0     0  865.17874    0  114 3639.26811  865.17874  76.2%     -    0s\n",
      "     0     0  865.21379    0  114 3639.26811  865.21379  76.2%     -    0s\n",
      "     0     0  939.32958    0  118 3639.26811  939.32958  74.2%     -    1s\n",
      "H    0     0                    3292.9913552  939.32958  71.5%     -    1s\n",
      "     0     0  941.95278    0  116 3292.99136  941.95278  71.4%     -    1s\n",
      "     0     0  942.07698    0  115 3292.99136  942.07698  71.4%     -    1s\n",
      "     0     0  942.12306    0  117 3292.99136  942.12306  71.4%     -    1s\n",
      "     0     0  942.13291    0  117 3292.99136  942.13291  71.4%     -    1s\n",
      "     0     0 1031.04682    0  132 3292.99136 1031.04682  68.7%     -    1s\n",
      "H    0     0                    3260.8981534 1031.04682  68.4%     -    1s\n",
      "     0     0 1035.51208    0  137 3260.89815 1035.51208  68.2%     -    1s\n",
      "     0     0 1035.55162    0  134 3260.89815 1035.55162  68.2%     -    2s\n",
      "     0     0 1085.33251    0  134 3260.89815 1085.33251  66.7%     -    2s\n",
      "H    0     0                    3241.5611415 1085.33251  66.5%     -    2s\n",
      "H    0     0                    3054.3179619 1085.33251  64.5%     -    2s\n",
      "     0     0 1086.84204    0  131 3054.31796 1086.84204  64.4%     -    2s\n",
      "     0     0 1086.86168    0  129 3054.31796 1086.86168  64.4%     -    2s\n",
      "     0     0 1119.87371    0  140 3054.31796 1119.87371  63.3%     -    2s\n",
      "     0     0 1123.68913    0  141 3054.31796 1123.68913  63.2%     -    2s\n",
      "     0     0 1124.56542    0  138 3054.31796 1124.56542  63.2%     -    2s\n",
      "     0     0 1124.56580    0  138 3054.31796 1124.56580  63.2%     -    2s\n",
      "     0     0 1149.48197    0  136 3054.31796 1149.48197  62.4%     -    3s\n",
      "     0     0 1152.91676    0  140 3054.31796 1152.91676  62.3%     -    3s\n",
      "     0     0 1153.21343    0  145 3054.31796 1153.21343  62.2%     -    3s\n",
      "     0     0 1153.21755    0  146 3054.31796 1153.21755  62.2%     -    3s\n",
      "     0     0 1178.03597    0  140 3054.31796 1178.03597  61.4%     -    3s\n",
      "     0     0 1182.33381    0  142 3054.31796 1182.33381  61.3%     -    3s\n",
      "     0     0 1182.58813    0  144 3054.31796 1182.58813  61.3%     -    3s\n",
      "     0     0 1182.64317    0  144 3054.31796 1182.64317  61.3%     -    3s\n",
      "     0     0 1206.47423    0  141 3054.31796 1206.47423  60.5%     -    3s\n",
      "     0     0 1208.91119    0  141 3054.31796 1208.91119  60.4%     -    3s\n",
      "     0     0 1209.72244    0  140 3054.31796 1209.72244  60.4%     -    3s\n",
      "     0     0 1209.84127    0  144 3054.31796 1209.84127  60.4%     -    3s\n",
      "     0     0 1209.88604    0  143 3054.31796 1209.88604  60.4%     -    3s\n",
      "     0     0 1249.69333    0  138 3054.31796 1249.69333  59.1%     -    4s\n",
      "     0     0 1251.84954    0  138 3054.31796 1251.84954  59.0%     -    4s\n",
      "     0     0 1251.88994    0  140 3054.31796 1251.88994  59.0%     -    4s\n",
      "     0     0 1270.04408    0  143 3054.31796 1270.04408  58.4%     -    4s\n",
      "     0     0 1274.55649    0  146 3054.31796 1274.55649  58.3%     -    4s\n",
      "     0     0 1274.64178    0  149 3054.31796 1274.64178  58.3%     -    4s\n",
      "     0     0 1295.21943    0  155 3054.31796 1295.21943  57.6%     -    4s\n",
      "     0     0 1297.21183    0  153 3054.31796 1297.21183  57.5%     -    4s\n",
      "     0     0 1297.38131    0  153 3054.31796 1297.38131  57.5%     -    5s\n",
      "     0     0 1297.41181    0  157 3054.31796 1297.41181  57.5%     -    5s\n",
      "     0     0 1309.61989    0  155 3054.31796 1309.61989  57.1%     -    5s\n",
      "     0     0 1310.80803    0  162 3054.31796 1310.80803  57.1%     -    5s\n",
      "     0     0 1311.14720    0  164 3054.31796 1311.14720  57.1%     -    5s\n",
      "     0     0 1311.17272    0  166 3054.31796 1311.17272  57.1%     -    5s\n",
      "     0     0 1314.17382    0  164 3054.31796 1314.17382  57.0%     -    5s\n",
      "     0     0 1315.29377    0  158 3054.31796 1315.29377  56.9%     -    5s\n",
      "     0     0 1315.43129    0  160 3054.31796 1315.43129  56.9%     -    5s\n",
      "     0     0 1315.45556    0  163 3054.31796 1315.45556  56.9%     -    5s\n",
      "     0     0 1321.10927    0  158 3054.31796 1321.10927  56.7%     -    6s\n",
      "     0     0 1321.24129    0  159 3054.31796 1321.24129  56.7%     -    6s\n",
      "     0     0 1321.32624    0  158 3054.31796 1321.32624  56.7%     -    6s\n",
      "     0     0 1322.88827    0  162 3054.31796 1322.88827  56.7%     -    6s\n",
      "     0     0 1323.50290    0  165 3054.31796 1323.50290  56.7%     -    6s\n",
      "     0     0 1323.59440    0  165 3054.31796 1323.59440  56.7%     -    6s\n",
      "     0     0 1324.38093    0  165 3054.31796 1324.38093  56.6%     -    6s\n",
      "     0     0 1324.82361    0  164 3054.31796 1324.82361  56.6%     -    6s\n",
      "     0     0 1325.04419    0  163 3054.31796 1325.04419  56.6%     -    6s\n",
      "     0     0 1325.05723    0  166 3054.31796 1325.05723  56.6%     -    6s\n",
      "     0     0 1325.37957    0  166 3054.31796 1325.37957  56.6%     -    7s\n",
      "     0     0 1325.47184    0  167 3054.31796 1325.47184  56.6%     -    7s\n",
      "     0     0 1326.86270    0  165 3054.31796 1326.86270  56.6%     -    7s\n",
      "     0     0 1326.87085    0  166 3054.31796 1326.87085  56.6%     -    7s\n",
      "     0     0 1327.46078    0  166 3054.31796 1327.46078  56.5%     -    7s\n",
      "     0     0 1327.67870    0  171 3054.31796 1327.67870  56.5%     -    7s\n",
      "     0     0 1327.70612    0  169 3054.31796 1327.70612  56.5%     -    7s\n",
      "     0     0 1328.12022    0  162 3054.31796 1328.12022  56.5%     -    7s\n",
      "     0     0 1328.12022    0  162 3054.31796 1328.12022  56.5%     -    8s\n",
      "H    0     2                    3054.1996815 1330.01214  56.5%     -    9s\n",
      "     0     2 1330.01214    0  162 3054.19968 1330.01214  56.5%     -    9s\n",
      "    21    25 1335.29089    7  155 3054.19968 1330.01214  56.5%  96.0   10s\n",
      "H   26    29                    3048.1728923 1330.01214  56.4%  92.5   10s\n",
      "H  141   134                    2921.3162821 1330.01214  54.5%  71.7   13s\n",
      "H  168   157                    2918.1803940 1330.01214  54.4%  69.5   14s\n",
      "H  171   157                    2910.1249239 1330.01214  54.3%  68.8   14s\n",
      "   185   178 1507.98116   72  133 2910.12492 1330.01214  54.3%  66.7   15s\n",
      "H  200   186                    2905.0608454 1330.01214  54.2%  66.3   16s\n",
      "H  347   350                    2901.9249573 1330.01214  54.2%  54.4   18s\n",
      "H  375   362                    2901.3342457 1330.01214  54.2%  53.0   18s\n",
      "H  384   364                    2880.6951166 1330.01214  53.8%  52.6   20s\n",
      "\n",
      "Cutting planes:\n",
      "  Cover: 10\n",
      "  Implied bound: 18\n",
      "  Clique: 159\n",
      "  MIR: 53\n",
      "  GUB cover: 12\n",
      "  Zero half: 14\n",
      "  Mod-K: 1\n",
      "  RLT: 3\n",
      "  Relax-and-lift: 106\n",
      "\n",
      "Explored 386 nodes (26409 simplex iterations) in 20.06 seconds (18.41 work units)\n",
      "Thread count was 4 (of 4 available processors)\n",
      "\n",
      "Solution count 10: 2880.7 2901.33 2901.92 ... 3054.32\n",
      "\n",
      "Time limit reached\n",
      "Best objective 2.880695116556e+03, best bound 1.330012137243e+03, gap 53.8302%\n"
     ]
    }
   ],
   "source": [
    "mdl.optimize()"
   ]
  },
  {
   "cell_type": "code",
   "execution_count": 79,
   "id": "760f5756",
   "metadata": {},
   "outputs": [],
   "source": [
    "active_arcs = [a for a in A if x[a].x > 0.99]"
   ]
  },
  {
   "cell_type": "code",
   "execution_count": 80,
   "id": "a5c72274",
   "metadata": {},
   "outputs": [
    {
     "data": {
      "text/plain": [
       "[(0, 2),\n",
       " (0, 7),\n",
       " (0, 17),\n",
       " (0, 19),\n",
       " (0, 23),\n",
       " (0, 24),\n",
       " (0, 27),\n",
       " (0, 30),\n",
       " (0, 31),\n",
       " (0, 37),\n",
       " (0, 40),\n",
       " (0, 41),\n",
       " (0, 42),\n",
       " (0, 44),\n",
       " (1, 9),\n",
       " (2, 0),\n",
       " (3, 43),\n",
       " (4, 25),\n",
       " (5, 49),\n",
       " (6, 12),\n",
       " (7, 45),\n",
       " (8, 34),\n",
       " (9, 38),\n",
       " (10, 18),\n",
       " (11, 32),\n",
       " (12, 0),\n",
       " (13, 15),\n",
       " (14, 16),\n",
       " (15, 0),\n",
       " (16, 0),\n",
       " (17, 6),\n",
       " (18, 0),\n",
       " (19, 13),\n",
       " (20, 0),\n",
       " (21, 0),\n",
       " (22, 48),\n",
       " (23, 28),\n",
       " (24, 8),\n",
       " (25, 50),\n",
       " (26, 0),\n",
       " (27, 4),\n",
       " (28, 39),\n",
       " (29, 26),\n",
       " (30, 3),\n",
       " (31, 22),\n",
       " (32, 47),\n",
       " (33, 0),\n",
       " (34, 36),\n",
       " (35, 0),\n",
       " (36, 21),\n",
       " (37, 14),\n",
       " (38, 0),\n",
       " (39, 29),\n",
       " (40, 46),\n",
       " (41, 11),\n",
       " (42, 5),\n",
       " (43, 0),\n",
       " (44, 1),\n",
       " (45, 10),\n",
       " (46, 20),\n",
       " (47, 0),\n",
       " (48, 33),\n",
       " (49, 35),\n",
       " (50, 0)]"
      ]
     },
     "execution_count": 80,
     "metadata": {},
     "output_type": "execute_result"
    }
   ],
   "source": [
    "active_arcs"
   ]
  },
  {
   "cell_type": "code",
   "execution_count": 81,
   "id": "97f49d2b",
   "metadata": {},
   "outputs": [
    {
     "data": {
      "image/png": "[encoded data removed]",
      "text/plain": [
       "<Figure size 432x288 with 1 Axes>"
      ]
     },
     "metadata": {
      "needs_background": "light"
     },
     "output_type": "display_data"
    }
   ],
   "source": [
    "plt.plot(xc[0], yc[0], c='r', marker='s')\n",
    "plt.scatter(xc[1:], yc[1:], c = 'b')\n",
    "for i,j in active_arcs:\n",
    "    plt.plot([xc[i], xc[j]], [yc[i], yc[j]], c=\"g\")"
   ]
  },
  {
   "cell_type": "code",
   "execution_count": null,
   "id": "60a99ac5",
   "metadata": {},
   "outputs": [],
   "source": []
  },
  {
   "cell_type": "code",
   "execution_count": null,
   "id": "6f44da33",
   "metadata": {},
   "outputs": [],
   "source": []
  }
 ],
 "metadata": {
  "kernelspec": {
   "display_name": "Python 3",
   "language": "python",
   "name": "python3"
  },
  "language_info": {
   "codemirror_mode": {
    "name": "ipython",
    "version": 3
   },
   "file_extension": ".py",
   "mimetype": "text/x-python",
   "name": "python",
   "nbconvert_exporter": "python",
   "pygments_lexer": "ipython3",
   "version": "3.8.8"
  }
 },
 "nbformat": 4,
 "nbformat_minor": 5
}
