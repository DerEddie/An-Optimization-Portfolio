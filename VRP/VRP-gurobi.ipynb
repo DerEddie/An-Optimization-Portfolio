{
 "cells": [
  {
   "cell_type": "code",
   "execution_count": 10,
   "id": "1b62331a",
   "metadata": {},
   "outputs": [],
   "source": [
    "import gurobipy\n",
    "import numpy as np\n",
    "import matplotlib.pyplot as plt"
   ]
  },
  {
   "cell_type": "code",
   "execution_count": 11,
   "id": "a639e37c",
   "metadata": {},
   "outputs": [
    {
     "data": {
      "image/png": "[encoded data removed]",
      "text/plain": [
       "<Figure size 432x288 with 1 Axes>"
      ]
     },
     "metadata": {
      "needs_background": "light"
     },
     "output_type": "display_data"
    }
   ],
   "source": [
    "#Input Data\n",
    "rnd = np.random\n",
    "rnd.seed(0)\n",
    "n = 10\n",
    "xc = rnd.rand(n+1)*200\n",
    "yc = rnd.rand(n+1)*100\n",
    "\n",
    "plt.plot(xc[0], yc[0], c='r', marker='s')\n",
    "plt.scatter(xc[1:], yc[1:], c = 'b')\n",
    "\n",
    "N = [i for i in range(1,n+1)]\n",
    "V = [0] + N\n",
    "A = [(i,j) for i in V for j in V if i != j]\n",
    "c = {(i,j): np.hypot(xc[i]-xc[j], yc[i]-yc[j]) for i,j in A}\n",
    "Q = 20\n",
    "q = {i: rnd.randint(1,10) for i in N}\n"
   ]
  },
  {
   "cell_type": "code",
   "execution_count": 3,
   "id": "d71d5e51",
   "metadata": {},
   "outputs": [],
   "source": [
    "from gurobipy import Model, GRB, quicksum"
   ]
  },
  {
   "cell_type": "code",
   "execution_count": 4,
   "id": "f925988d",
   "metadata": {},
   "outputs": [
    {
     "name": "stdout",
     "output_type": "stream",
     "text": [
      "Set parameter Username\n",
      "Academic license - for non-commercial use only - expires 2022-03-22\n"
     ]
    }
   ],
   "source": [
    "mdl = Model(\"CVRP\")"
   ]
  },
  {
   "cell_type": "code",
   "execution_count": 5,
   "id": "b8206383",
   "metadata": {},
   "outputs": [],
   "source": [
    "x = mdl.addVars(A, vtype=GRB.BINARY)\n",
    "u = mdl.addVars(N, vtype=GRB.CONTINUOUS)"
   ]
  },
  {
   "cell_type": "code",
   "execution_count": 6,
   "id": "63aae0e8",
   "metadata": {},
   "outputs": [],
   "source": [
    "mdl.modelSense = GRB.MINIMIZE"
   ]
  },
  {
   "cell_type": "code",
   "execution_count": 7,
   "id": "6b9abbb7",
   "metadata": {},
   "outputs": [],
   "source": [
    "mdl.setObjective(quicksum(x[a]*c[a] for a in A))\n"
   ]
  },
  {
   "cell_type": "code",
   "execution_count": 8,
   "id": "8209f809",
   "metadata": {},
   "outputs": [],
   "source": [
    "mdl.addConstrs(quicksum(x[i,j] for j in V if j!=i)== 1 for i in N);\n",
    "mdl.addConstrs(quicksum(x[i,j] for i in V if j!=i)== 1 for j in N);\n",
    "mdl.addConstrs((x[i,j] == 1) >> (u[i] + q[i] == u[j])\n",
    "              for i,j in A if i!=0 and j!=0);\n",
    "mdl.addConstrs(u[i] >= q[i] for  i in N);\n",
    "mdl.addConstrs(u[i] <= Q for i in N);"
   ]
  },
  {
   "cell_type": "code",
   "execution_count": 9,
   "id": "f351aaf4",
   "metadata": {},
   "outputs": [
    {
     "name": "stdout",
     "output_type": "stream",
     "text": [
      "Gurobi Optimizer version 9.5.0 build v9.5.0rc5 (win64)\n",
      "Thread count: 2 physical cores, 4 logical processors, using up to 4 threads\n",
      "Optimize a model with 40 rows, 120 columns and 220 nonzeros\n",
      "Model fingerprint: 0xfc2180e6\n",
      "Model has 90 general constraints\n",
      "Variable types: 10 continuous, 110 integer (110 binary)\n",
      "Coefficient statistics:\n",
      "  Matrix range     [1e+00, 1e+00]\n",
      "  Objective range  [2e+01, 1e+02]\n",
      "  Bounds range     [1e+00, 1e+00]\n",
      "  RHS range        [1e+00, 2e+01]\n",
      "  GenCon rhs range [1e+00, 8e+00]\n",
      "  GenCon coe range [1e+00, 1e+00]\n",
      "Presolve added 178 rows and 12 columns\n",
      "Presolve time: 0.06s\n",
      "Presolved: 218 rows, 132 columns, 1301 nonzeros\n",
      "Variable types: 42 continuous, 90 integer (90 binary)\n",
      "Found heuristic solution: objective 885.6836867\n",
      "\n",
      "Root relaxation: objective 3.068464e+02, 44 iterations, 0.00 seconds (0.00 work units)\n",
      "\n",
      "    Nodes    |    Current Node    |     Objective Bounds      |     Work\n",
      " Expl Unexpl |  Obj  Depth IntInf | Incumbent    BestBd   Gap | It/Node Time\n",
      "\n",
      "     0     0  306.84636    0   23  885.68369  306.84636  65.4%     -    0s\n",
      "H    0     0                     814.1486869  306.84636  62.3%     -    0s\n",
      "H    0     0                     610.0123118  306.84636  49.7%     -    0s\n",
      "H    0     0                     510.2673872  306.84636  39.9%     -    0s\n",
      "     0     0  330.19071    0   23  510.26739  330.19071  35.3%     -    0s\n",
      "H    0     0                     476.1647238  330.19071  30.7%     -    0s\n",
      "     0     0  331.08818    0   25  476.16472  331.08818  30.5%     -    0s\n",
      "     0     0  331.08818    0   25  476.16472  331.08818  30.5%     -    0s\n",
      "     0     0  345.38450    0   24  476.16472  345.38450  27.5%     -    0s\n",
      "H    0     0                     469.9749160  345.38450  26.5%     -    0s\n",
      "     0     0  345.38450    0   24  469.97492  345.38450  26.5%     -    0s\n",
      "     0     0  353.27396    0   23  469.97492  353.27396  24.8%     -    0s\n",
      "     0     0  353.28523    0   25  469.97492  353.28523  24.8%     -    0s\n",
      "     0     0  353.31232    0   25  469.97492  353.31232  24.8%     -    0s\n",
      "     0     0  353.31232    0   24  469.97492  353.31232  24.8%     -    0s\n",
      "     0     0  355.84114    0   25  469.97492  355.84114  24.3%     -    0s\n",
      "     0     0  355.86463    0   25  469.97492  355.86463  24.3%     -    0s\n",
      "     0     0  356.79271    0   25  469.97492  356.79271  24.1%     -    0s\n",
      "     0     0  357.00611    0   25  469.97492  357.00611  24.0%     -    0s\n",
      "     0     0  357.19796    0   25  469.97492  357.19796  24.0%     -    0s\n",
      "     0     0  357.22462    0   25  469.97492  357.22462  24.0%     -    0s\n",
      "     0     0  357.22462    0   25  469.97492  357.22462  24.0%     -    0s\n",
      "     0     2  357.56743    0   25  469.97492  357.56743  23.9%     -    0s\n",
      "H   15    18                     469.7367681  371.07749  21.0%  13.7    0s\n",
      "H   18    18                     457.9798952  371.07749  19.0%  12.8    0s\n",
      "*   59    18               7     455.9147547  375.23160  17.7%  10.5    0s\n",
      "\n",
      "Cutting planes:\n",
      "  Learned: 3\n",
      "  Gomory: 2\n",
      "  Cover: 2\n",
      "  Implied bound: 3\n",
      "  MIR: 8\n",
      "  GUB cover: 2\n",
      "  Zero half: 4\n",
      "  Mod-K: 1\n",
      "  Relax-and-lift: 2\n",
      "\n",
      "Explored 707 nodes (7371 simplex iterations) in 0.71 seconds (0.20 work units)\n",
      "Thread count was 4 (of 4 available processors)\n",
      "\n",
      "Solution count 9: 455.915 457.98 469.737 ... 885.684\n",
      "\n",
      "Optimal solution found (tolerance 1.00e-04)\n",
      "Best objective 4.559147547435e+02, best bound 4.559147547435e+02, gap 0.0000%\n"
     ]
    }
   ],
   "source": [
    "mdl.optimize()"
   ]
  },
  {
   "cell_type": "code",
   "execution_count": null,
   "id": "760f5756",
   "metadata": {},
   "outputs": [],
   "source": []
  },
  {
   "cell_type": "code",
   "execution_count": null,
   "id": "a5c72274",
   "metadata": {},
   "outputs": [],
   "source": []
  },
  {
   "cell_type": "code",
   "execution_count": null,
   "id": "97f49d2b",
   "metadata": {},
   "outputs": [],
   "source": []
  }
 ],
 "metadata": {
  "kernelspec": {
   "display_name": "Python 3",
   "language": "python",
   "name": "python3"
  },
  "language_info": {
   "codemirror_mode": {
    "name": "ipython",
    "version": 3
   },
   "file_extension": ".py",
   "mimetype": "text/x-python",
   "name": "python",
   "nbconvert_exporter": "python",
   "pygments_lexer": "ipython3",
   "version": "3.8.8"
  }
 },
 "nbformat": 4,
 "nbformat_minor": 5
}
